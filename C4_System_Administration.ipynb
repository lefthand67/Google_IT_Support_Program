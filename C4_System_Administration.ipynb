{
 "cells": [
  {
   "cell_type": "markdown",
   "id": "8a65f012-5b14-457f-9b4c-fde13e9e490d",
   "metadata": {
    "execution": {
     "iopub.execute_input": "2023-08-18T13:51:17.410703Z",
     "iopub.status.busy": "2023-08-18T13:51:17.409436Z",
     "iopub.status.idle": "2023-08-18T13:51:17.515214Z",
     "shell.execute_reply": "2023-08-18T13:51:17.514261Z",
     "shell.execute_reply.started": "2023-08-18T13:51:17.410660Z"
    },
    "tags": []
   },
   "source": [
    "# GOOGLE IT SUPPORT PROFESSIONAL CERTIFICATE from [Google](https://www.coursera.org/google-certificates/it-support-certificate)"
   ]
  },
  {
   "cell_type": "markdown",
   "id": "b8dc1379-8bc6-44d7-a476-55609ddf62f0",
   "metadata": {},
   "source": [
    "# <b>C4 [Introduction to System Administration and IT Infrastructure Services](https://www.coursera.org/learn/system-administration-it-infrastructure-services?specialization=google-it-support)</b>"
   ]
  },
  {
   "cell_type": "markdown",
   "id": "12ea002a-47a6-4798-b270-a1fcbe2496f4",
   "metadata": {},
   "source": [
    "> **System administration** is the field in IT that's responsible for maintaining reliable computer systems in a multi-user environment."
   ]
  },
  {
   "cell_type": "code",
   "execution_count": null,
   "id": "17f40100-b320-4deb-b1d6-b9add96d88c9",
   "metadata": {},
   "outputs": [],
   "source": []
  },
  {
   "cell_type": "code",
   "execution_count": null,
   "id": "707c2aba-5b73-4b95-afab-2b980e1247db",
   "metadata": {},
   "outputs": [],
   "source": []
  },
  {
   "cell_type": "code",
   "execution_count": null,
   "id": "0892a431-76b9-4b6e-b3df-52e71ef63b6c",
   "metadata": {},
   "outputs": [],
   "source": []
  },
  {
   "cell_type": "code",
   "execution_count": null,
   "id": "e5a7e358-01d3-4c64-83bf-758c5d2cc030",
   "metadata": {},
   "outputs": [],
   "source": []
  },
  {
   "cell_type": "code",
   "execution_count": null,
   "id": "6214f33b-631b-4c1b-9780-a1e2309aa5f8",
   "metadata": {},
   "outputs": [],
   "source": []
  },
  {
   "cell_type": "code",
   "execution_count": null,
   "id": "bb09a403-2ca6-4e46-a428-da8e123f65a0",
   "metadata": {},
   "outputs": [],
   "source": []
  },
  {
   "cell_type": "code",
   "execution_count": null,
   "id": "7bbceaa0-7639-402c-8900-6c3aaf06af93",
   "metadata": {},
   "outputs": [],
   "source": []
  },
  {
   "cell_type": "code",
   "execution_count": null,
   "id": "883da65b-21e2-4e4c-b277-e1edfb090690",
   "metadata": {},
   "outputs": [],
   "source": []
  },
  {
   "cell_type": "code",
   "execution_count": null,
   "id": "859b94c4-970a-4729-b142-c9cadf6463a4",
   "metadata": {},
   "outputs": [],
   "source": []
  },
  {
   "cell_type": "code",
   "execution_count": null,
   "id": "9873d0b9-e439-4938-9e41-d2baec345b7b",
   "metadata": {},
   "outputs": [],
   "source": []
  },
  {
   "cell_type": "code",
   "execution_count": null,
   "id": "95f25067-058e-47b3-b304-52d7875573c9",
   "metadata": {},
   "outputs": [],
   "source": []
  },
  {
   "cell_type": "code",
   "execution_count": null,
   "id": "d86e0115-2d2f-49a4-bf41-b4eb4cfe209f",
   "metadata": {},
   "outputs": [],
   "source": []
  },
  {
   "cell_type": "code",
   "execution_count": null,
   "id": "6c7f9631-1d4b-4fad-ac0c-488a739daec0",
   "metadata": {},
   "outputs": [],
   "source": []
  },
  {
   "cell_type": "code",
   "execution_count": null,
   "id": "cfcca97d-ee31-45dc-bc6e-4cf325a43f84",
   "metadata": {},
   "outputs": [],
   "source": []
  },
  {
   "cell_type": "code",
   "execution_count": null,
   "id": "4043031b-e9a6-4b94-b4a9-4421a43978f2",
   "metadata": {},
   "outputs": [],
   "source": []
  },
  {
   "cell_type": "code",
   "execution_count": null,
   "id": "431415df-1d42-42ce-b4ab-f28f0a3a519e",
   "metadata": {},
   "outputs": [],
   "source": []
  },
  {
   "cell_type": "code",
   "execution_count": null,
   "id": "afff90cd-d7bd-426d-98ee-01c31631ee7b",
   "metadata": {},
   "outputs": [],
   "source": []
  },
  {
   "cell_type": "code",
   "execution_count": null,
   "id": "7b99c67c-3058-4206-a3aa-a509f6f276af",
   "metadata": {},
   "outputs": [],
   "source": []
  },
  {
   "cell_type": "code",
   "execution_count": null,
   "id": "8e69c373-2745-4fbe-bb06-3a6de87b2b62",
   "metadata": {},
   "outputs": [],
   "source": []
  },
  {
   "cell_type": "code",
   "execution_count": null,
   "id": "63e1c351-0cb7-4787-8dc9-c4c7a92e68f1",
   "metadata": {},
   "outputs": [],
   "source": []
  },
  {
   "cell_type": "code",
   "execution_count": null,
   "id": "c22a7cfb-f447-40eb-9f47-419a6804b071",
   "metadata": {},
   "outputs": [],
   "source": []
  },
  {
   "cell_type": "code",
   "execution_count": null,
   "id": "c4c855cc-03b1-497f-9a79-3b2cf7eb6baf",
   "metadata": {},
   "outputs": [],
   "source": []
  },
  {
   "cell_type": "code",
   "execution_count": null,
   "id": "dcedf923-190a-4847-b62d-18e144ecedc8",
   "metadata": {},
   "outputs": [],
   "source": []
  },
  {
   "cell_type": "code",
   "execution_count": null,
   "id": "dc0cd659-a7b4-4034-9521-8af26282d73d",
   "metadata": {},
   "outputs": [],
   "source": []
  },
  {
   "cell_type": "code",
   "execution_count": null,
   "id": "4091d94d-12a0-4652-92d7-b5642ba4110f",
   "metadata": {},
   "outputs": [],
   "source": []
  },
  {
   "cell_type": "code",
   "execution_count": null,
   "id": "4be5f140-3027-40af-90b4-73a1294e81dc",
   "metadata": {},
   "outputs": [],
   "source": []
  },
  {
   "cell_type": "code",
   "execution_count": null,
   "id": "c8d5ff5a-a5a1-4dbd-8835-28a43726ae99",
   "metadata": {},
   "outputs": [],
   "source": []
  },
  {
   "cell_type": "code",
   "execution_count": null,
   "id": "0a515a5e-f346-4e6e-9a56-8dd53eda85b8",
   "metadata": {},
   "outputs": [],
   "source": []
  },
  {
   "cell_type": "code",
   "execution_count": null,
   "id": "65e112ce-63fa-43ec-9d4b-28c3b7218ce1",
   "metadata": {},
   "outputs": [],
   "source": []
  },
  {
   "cell_type": "code",
   "execution_count": null,
   "id": "9f226a60-9c4f-4001-802f-da37fa6a0291",
   "metadata": {},
   "outputs": [],
   "source": []
  },
  {
   "cell_type": "code",
   "execution_count": null,
   "id": "6ed6d168-b915-44a2-b864-7ca4051c31d7",
   "metadata": {},
   "outputs": [],
   "source": []
  },
  {
   "cell_type": "code",
   "execution_count": null,
   "id": "259e62ee-aff3-4a78-a9ea-d02383da111e",
   "metadata": {},
   "outputs": [],
   "source": []
  },
  {
   "cell_type": "code",
   "execution_count": null,
   "id": "6d9166a5-833d-4611-bf19-ef411f8ef8c7",
   "metadata": {},
   "outputs": [],
   "source": []
  },
  {
   "cell_type": "code",
   "execution_count": null,
   "id": "854ac904-b803-4b87-9119-ab578a1e7247",
   "metadata": {},
   "outputs": [],
   "source": []
  },
  {
   "cell_type": "code",
   "execution_count": null,
   "id": "6ee89c38-9842-4699-a83e-f8cc8945d39b",
   "metadata": {},
   "outputs": [],
   "source": []
  },
  {
   "cell_type": "code",
   "execution_count": null,
   "id": "eeb65f10-b058-482a-b1f9-bceaff961278",
   "metadata": {},
   "outputs": [],
   "source": []
  },
  {
   "cell_type": "code",
   "execution_count": null,
   "id": "652d2857-2f59-43ae-90bd-87dda27a49f4",
   "metadata": {},
   "outputs": [],
   "source": []
  },
  {
   "cell_type": "code",
   "execution_count": null,
   "id": "09d39ef6-5ca7-4d39-b280-b900480c41d2",
   "metadata": {},
   "outputs": [],
   "source": []
  },
  {
   "cell_type": "code",
   "execution_count": null,
   "id": "c755edb1-1fa6-4aa4-953a-56741928907b",
   "metadata": {},
   "outputs": [],
   "source": []
  },
  {
   "cell_type": "markdown",
   "id": "5b78949a-03a4-41ee-9f7f-7315df4e2846",
   "metadata": {},
   "source": [
    "|Purpose|PowerShell|Bash|\n",
    "|-|-|-|\n",
    "||||\n",
    "||||\n",
    "||||\n",
    "||||\n",
    "||||\n",
    "||||\n",
    "||||\n",
    "||||\n",
    "||||\n",
    "||||\n",
    "||||\n",
    "||||\n",
    "||||\n",
    "||||\n",
    "||||\n",
    "||||\n",
    "||||\n",
    "||||\n",
    "||||\n",
    "||||"
   ]
  },
  {
   "cell_type": "code",
   "execution_count": null,
   "id": "9685bf6d-842f-447c-9234-970f40bd5890",
   "metadata": {},
   "outputs": [],
   "source": []
  },
  {
   "cell_type": "code",
   "execution_count": null,
   "id": "159547af-25a0-4106-93e8-996541c2a1b9",
   "metadata": {},
   "outputs": [],
   "source": []
  },
  {
   "cell_type": "code",
   "execution_count": null,
   "id": "4b4604fe-ce46-45f0-bd3e-5c8186a22d36",
   "metadata": {},
   "outputs": [],
   "source": []
  },
  {
   "cell_type": "code",
   "execution_count": null,
   "id": "f8bdbf37-3260-4bfd-bbcd-bf85854bcb9e",
   "metadata": {},
   "outputs": [],
   "source": []
  },
  {
   "cell_type": "code",
   "execution_count": null,
   "id": "c16176cf-5093-40af-a8d8-0d81f8e70eb9",
   "metadata": {},
   "outputs": [],
   "source": []
  },
  {
   "cell_type": "code",
   "execution_count": null,
   "id": "cd5334d6-93e3-4260-8aaa-3417c2bceebd",
   "metadata": {},
   "outputs": [],
   "source": []
  },
  {
   "cell_type": "code",
   "execution_count": null,
   "id": "249f26c5-f180-40de-a5d4-fa40385695b5",
   "metadata": {},
   "outputs": [],
   "source": []
  },
  {
   "cell_type": "code",
   "execution_count": null,
   "id": "49150eb8-dd01-4b08-894a-08729ff2ad90",
   "metadata": {},
   "outputs": [],
   "source": []
  },
  {
   "cell_type": "code",
   "execution_count": null,
   "id": "8393bfea-9e7a-4916-b97e-f0d7cc9b8dea",
   "metadata": {},
   "outputs": [],
   "source": []
  },
  {
   "cell_type": "code",
   "execution_count": null,
   "id": "57b60613-0a9f-4023-b29d-5efd52c03610",
   "metadata": {},
   "outputs": [],
   "source": []
  },
  {
   "cell_type": "code",
   "execution_count": null,
   "id": "05e271a4-ae25-4d2f-958e-1f9d47303cc3",
   "metadata": {},
   "outputs": [],
   "source": []
  },
  {
   "cell_type": "code",
   "execution_count": null,
   "id": "35f2fae2-f72c-4f7f-9f1d-a325cf9c1674",
   "metadata": {},
   "outputs": [],
   "source": []
  },
  {
   "cell_type": "code",
   "execution_count": null,
   "id": "aaad30f6-34ad-472b-82ef-2046e8d67ac6",
   "metadata": {},
   "outputs": [],
   "source": []
  },
  {
   "cell_type": "code",
   "execution_count": null,
   "id": "9959da3d-73ff-4dfd-b65a-acddf2b3f4d1",
   "metadata": {},
   "outputs": [],
   "source": []
  },
  {
   "cell_type": "code",
   "execution_count": null,
   "id": "4735d141-9af9-476c-99f9-082d7e09dabf",
   "metadata": {},
   "outputs": [],
   "source": []
  },
  {
   "cell_type": "code",
   "execution_count": null,
   "id": "562d6070-0306-433e-955e-182c217c78fb",
   "metadata": {},
   "outputs": [],
   "source": []
  },
  {
   "cell_type": "code",
   "execution_count": null,
   "id": "4d3b95fe-aa1b-4526-8e44-e6c301a1e483",
   "metadata": {},
   "outputs": [],
   "source": []
  },
  {
   "cell_type": "code",
   "execution_count": null,
   "id": "7efa1727-bee3-4557-a669-1a59731f277b",
   "metadata": {},
   "outputs": [],
   "source": []
  },
  {
   "cell_type": "code",
   "execution_count": null,
   "id": "d95a90c7-3149-4e29-ba65-b72f80b6aca6",
   "metadata": {},
   "outputs": [],
   "source": []
  },
  {
   "cell_type": "code",
   "execution_count": null,
   "id": "ca1f789c-5954-472a-8559-fb9f63fcf1f6",
   "metadata": {},
   "outputs": [],
   "source": []
  },
  {
   "cell_type": "code",
   "execution_count": null,
   "id": "c916d414-1fc8-4b8b-abc1-c389c4e6f87c",
   "metadata": {},
   "outputs": [],
   "source": []
  },
  {
   "cell_type": "code",
   "execution_count": null,
   "id": "6082918d-b3af-46d5-998f-f807b6b87f4a",
   "metadata": {},
   "outputs": [],
   "source": []
  },
  {
   "cell_type": "code",
   "execution_count": null,
   "id": "43cefe76-6b82-46fd-8dcc-6634c575e052",
   "metadata": {},
   "outputs": [],
   "source": []
  },
  {
   "cell_type": "code",
   "execution_count": null,
   "id": "6071c7de-4672-4f96-8ce7-f10a3a1486b9",
   "metadata": {},
   "outputs": [],
   "source": []
  },
  {
   "cell_type": "code",
   "execution_count": null,
   "id": "93082be7-a5c8-4df1-9ba9-ecaa489e2e6b",
   "metadata": {},
   "outputs": [],
   "source": []
  },
  {
   "cell_type": "code",
   "execution_count": null,
   "id": "1eaa7e6e-9d86-4fc8-9112-97507911b61e",
   "metadata": {},
   "outputs": [],
   "source": []
  },
  {
   "cell_type": "code",
   "execution_count": null,
   "id": "4002b1c2-43a1-416e-9c93-e6ecbb7324cd",
   "metadata": {},
   "outputs": [],
   "source": []
  },
  {
   "cell_type": "code",
   "execution_count": null,
   "id": "dcf40025-bd8f-4a99-ac53-9d7624a534a2",
   "metadata": {},
   "outputs": [],
   "source": []
  },
  {
   "cell_type": "code",
   "execution_count": null,
   "id": "2638a659-853c-43b3-9b50-d37f12c9bdb6",
   "metadata": {},
   "outputs": [],
   "source": []
  },
  {
   "cell_type": "code",
   "execution_count": null,
   "id": "30f32591-a095-4e0c-b00f-30ca45a7bb3f",
   "metadata": {},
   "outputs": [],
   "source": []
  },
  {
   "cell_type": "code",
   "execution_count": null,
   "id": "8ce11f94-5b1e-463f-9749-ccfe6a7e7023",
   "metadata": {},
   "outputs": [],
   "source": []
  },
  {
   "cell_type": "code",
   "execution_count": null,
   "id": "1ebd91c4-5692-4c1a-827c-fe4a8fafe6a7",
   "metadata": {},
   "outputs": [],
   "source": []
  },
  {
   "cell_type": "code",
   "execution_count": null,
   "id": "23e91af4-cd92-4881-b509-f154554d2eef",
   "metadata": {},
   "outputs": [],
   "source": []
  },
  {
   "cell_type": "code",
   "execution_count": null,
   "id": "8abccd54-6450-4a35-80d5-d30be69580b6",
   "metadata": {},
   "outputs": [],
   "source": []
  },
  {
   "cell_type": "code",
   "execution_count": null,
   "id": "ae61d36c-f6e9-4b58-8ae7-87421b4af22e",
   "metadata": {},
   "outputs": [],
   "source": []
  },
  {
   "cell_type": "code",
   "execution_count": null,
   "id": "a86354ac-8a40-40c1-b6a4-a75ee82456c4",
   "metadata": {},
   "outputs": [],
   "source": []
  },
  {
   "cell_type": "code",
   "execution_count": null,
   "id": "ceb5e0a4-f477-4865-a378-c7027ffa6bcf",
   "metadata": {},
   "outputs": [],
   "source": []
  },
  {
   "cell_type": "code",
   "execution_count": null,
   "id": "6f059853-e1ef-413d-bade-445a449dd5ec",
   "metadata": {},
   "outputs": [],
   "source": []
  },
  {
   "cell_type": "code",
   "execution_count": null,
   "id": "95c4b0ef-fa6a-4e2d-87f2-2279ed535682",
   "metadata": {},
   "outputs": [],
   "source": []
  },
  {
   "cell_type": "code",
   "execution_count": null,
   "id": "2b09be01-79a2-48c4-954b-0e52992a1cfd",
   "metadata": {},
   "outputs": [],
   "source": []
  },
  {
   "cell_type": "code",
   "execution_count": null,
   "id": "f7fe7ae8-af7a-4464-ad9d-09ce9b20c7be",
   "metadata": {},
   "outputs": [],
   "source": []
  },
  {
   "cell_type": "code",
   "execution_count": null,
   "id": "44140b5e-5144-457d-93ef-320cc99c2304",
   "metadata": {},
   "outputs": [],
   "source": []
  },
  {
   "cell_type": "code",
   "execution_count": null,
   "id": "9e20bc55-1aa4-446b-8a54-f713e187483b",
   "metadata": {},
   "outputs": [],
   "source": []
  },
  {
   "cell_type": "code",
   "execution_count": null,
   "id": "926375fb-d464-40be-8bfa-8348d42f5407",
   "metadata": {},
   "outputs": [],
   "source": []
  },
  {
   "cell_type": "code",
   "execution_count": null,
   "id": "f04c76e5-65c0-43e0-bbca-1a3c6aecb42c",
   "metadata": {},
   "outputs": [],
   "source": []
  },
  {
   "cell_type": "code",
   "execution_count": null,
   "id": "ecbb908f-81d5-4d71-ac6c-708da2fee95b",
   "metadata": {},
   "outputs": [],
   "source": []
  },
  {
   "cell_type": "code",
   "execution_count": null,
   "id": "9628a6d2-36e9-4ef9-974f-17176af1efd5",
   "metadata": {},
   "outputs": [],
   "source": []
  },
  {
   "cell_type": "code",
   "execution_count": null,
   "id": "3be29b62-4beb-4c5a-9691-df390007a43b",
   "metadata": {},
   "outputs": [],
   "source": []
  },
  {
   "cell_type": "code",
   "execution_count": null,
   "id": "98e53852-afe7-4b64-8826-d0e649e5da7f",
   "metadata": {},
   "outputs": [],
   "source": []
  },
  {
   "cell_type": "code",
   "execution_count": null,
   "id": "b5b838d9-9197-4c6a-8d4d-73c3cfe79207",
   "metadata": {},
   "outputs": [],
   "source": []
  },
  {
   "cell_type": "code",
   "execution_count": null,
   "id": "0f1387ce-2d3d-43e1-aa94-eacdf67b551a",
   "metadata": {},
   "outputs": [],
   "source": []
  },
  {
   "cell_type": "code",
   "execution_count": null,
   "id": "ee12e095-8baf-4f0c-8188-858d93d1ef49",
   "metadata": {},
   "outputs": [],
   "source": []
  },
  {
   "cell_type": "code",
   "execution_count": null,
   "id": "7d70f73b-bc7e-4684-bc75-1a27c18c3abb",
   "metadata": {},
   "outputs": [],
   "source": []
  },
  {
   "cell_type": "code",
   "execution_count": null,
   "id": "19c4c37d-3e3f-4bb6-ae19-56496e60abfd",
   "metadata": {},
   "outputs": [],
   "source": []
  },
  {
   "cell_type": "code",
   "execution_count": null,
   "id": "d3712bb2-2506-4ff5-acf6-396579b0cb2e",
   "metadata": {},
   "outputs": [],
   "source": []
  },
  {
   "cell_type": "code",
   "execution_count": null,
   "id": "211e6413-a5f3-4c30-9c9f-25903878af1e",
   "metadata": {},
   "outputs": [],
   "source": []
  },
  {
   "cell_type": "code",
   "execution_count": null,
   "id": "6ee80056-acf5-4973-bad6-8189d8ac332d",
   "metadata": {},
   "outputs": [],
   "source": []
  },
  {
   "cell_type": "code",
   "execution_count": null,
   "id": "c44ca883-f865-4cf7-93ac-369dc79e2fac",
   "metadata": {},
   "outputs": [],
   "source": []
  },
  {
   "cell_type": "code",
   "execution_count": null,
   "id": "4bdf1df6-65d8-4c47-9258-915f58fb19ac",
   "metadata": {},
   "outputs": [],
   "source": []
  },
  {
   "cell_type": "code",
   "execution_count": null,
   "id": "2a9eeef5-dfa5-4f8b-b36a-141e6d5f220f",
   "metadata": {},
   "outputs": [],
   "source": []
  },
  {
   "cell_type": "code",
   "execution_count": null,
   "id": "3b069a45-10c8-4539-847c-a9260156813c",
   "metadata": {},
   "outputs": [],
   "source": []
  },
  {
   "cell_type": "code",
   "execution_count": null,
   "id": "6d03e302-0cbb-437d-bf4e-bb578ff1530b",
   "metadata": {},
   "outputs": [],
   "source": []
  },
  {
   "cell_type": "code",
   "execution_count": null,
   "id": "7c9d28e8-af88-4f9c-a299-99cb972bdc7e",
   "metadata": {},
   "outputs": [],
   "source": []
  },
  {
   "cell_type": "code",
   "execution_count": null,
   "id": "7bfc9d28-e0ef-4f28-b279-d2d23548fab9",
   "metadata": {},
   "outputs": [],
   "source": []
  },
  {
   "cell_type": "code",
   "execution_count": null,
   "id": "736f1aea-27d3-4d25-b429-74c0c1f57fa1",
   "metadata": {},
   "outputs": [],
   "source": []
  },
  {
   "cell_type": "code",
   "execution_count": null,
   "id": "a4836c2b-7e9d-4c51-8ca5-18866525d260",
   "metadata": {},
   "outputs": [],
   "source": []
  },
  {
   "cell_type": "code",
   "execution_count": null,
   "id": "04e130bc-9bdf-4917-9c26-dc00ed50d486",
   "metadata": {},
   "outputs": [],
   "source": []
  },
  {
   "cell_type": "code",
   "execution_count": null,
   "id": "ff1cccb5-b699-40d2-9f4e-c173248bcb96",
   "metadata": {},
   "outputs": [],
   "source": []
  },
  {
   "cell_type": "code",
   "execution_count": null,
   "id": "22a56af4-241c-4759-8788-9ee8ec5299dc",
   "metadata": {},
   "outputs": [],
   "source": []
  },
  {
   "cell_type": "code",
   "execution_count": null,
   "id": "54a6b795-32ae-46a5-bf18-7453de8b2e45",
   "metadata": {},
   "outputs": [],
   "source": []
  },
  {
   "cell_type": "code",
   "execution_count": null,
   "id": "e052f1d9-dc72-45f2-8190-b44bf47eb6c0",
   "metadata": {},
   "outputs": [],
   "source": []
  },
  {
   "cell_type": "code",
   "execution_count": null,
   "id": "74280891-0c26-442f-ba8d-ddc7fcefce40",
   "metadata": {},
   "outputs": [],
   "source": []
  },
  {
   "cell_type": "code",
   "execution_count": null,
   "id": "2e5b866f-82f7-43e8-97c7-e486a141b16e",
   "metadata": {},
   "outputs": [],
   "source": []
  },
  {
   "cell_type": "code",
   "execution_count": null,
   "id": "59281cbd-8781-439d-a1b4-e4bd510f1de5",
   "metadata": {},
   "outputs": [],
   "source": []
  }
 ],
 "metadata": {
  "kernelspec": {
   "display_name": "Bash",
   "language": "bash",
   "name": "bash"
  },
  "language_info": {
   "codemirror_mode": "shell",
   "file_extension": ".sh",
   "mimetype": "text/x-sh",
   "name": "bash"
  }
 },
 "nbformat": 4,
 "nbformat_minor": 5
}
