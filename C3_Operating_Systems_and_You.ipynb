{
 "cells": [
  {
   "cell_type": "markdown",
   "id": "aa0a46d9-87c0-4acd-8df4-92b8ca34c464",
   "metadata": {
    "execution": {
     "iopub.execute_input": "2023-08-18T13:51:17.410703Z",
     "iopub.status.busy": "2023-08-18T13:51:17.409436Z",
     "iopub.status.idle": "2023-08-18T13:51:17.515214Z",
     "shell.execute_reply": "2023-08-18T13:51:17.514261Z",
     "shell.execute_reply.started": "2023-08-18T13:51:17.410660Z"
    },
    "tags": []
   },
   "source": [
    "# GOOGLE IT SUPPORT PROFESSIONAL CERTIFICATE from [Google](https://www.coursera.org/google-certificates/it-support-certificate)"
   ]
  },
  {
   "cell_type": "markdown",
   "id": "568c040e-5a4b-4282-8e95-b1cde3293917",
   "metadata": {},
   "source": [
    "# <b>C3 [Operating Systems and You: Becoming a Power User](https://www.coursera.org/learn/os-power-user)</b>"
   ]
  },
  {
   "cell_type": "markdown",
   "id": "16b424de-3066-42e6-bd16-47629bfa12a0",
   "metadata": {},
   "source": [
    "[Bash kernel](https://github.com/takluyver/bash_kernel/tree/master) for Jupyter:"
   ]
  },
  {
   "cell_type": "code",
   "execution_count": 10,
   "id": "d096d6bb-4973-4a70-8584-42835bd2c2b2",
   "metadata": {
    "execution": {
     "iopub.execute_input": "2023-08-10T11:16:57.927701Z",
     "iopub.status.busy": "2023-08-10T11:16:57.926898Z",
     "iopub.status.idle": "2023-08-10T11:16:57.936813Z",
     "shell.execute_reply": "2023-08-10T11:16:57.933908Z",
     "shell.execute_reply.started": "2023-08-10T11:16:57.927620Z"
    },
    "tags": []
   },
   "outputs": [],
   "source": [
    "# !pip install --upgrade pip\n",
    "# !pip install bash_kernel\n",
    "# !python3 -m bash_kernel.install"
   ]
  },
  {
   "cell_type": "markdown",
   "id": "c75e8000-9637-4b2c-93a1-81748f748ea3",
   "metadata": {},
   "source": [
    "[Powershell kernel](https://github.com/vors/jupyter-powershell) for Jupyter:"
   ]
  },
  {
   "cell_type": "code",
   "execution_count": 1,
   "id": "d4a6b8a9-5a39-4fdc-9dd0-57db0f7e45ef",
   "metadata": {
    "execution": {
     "iopub.execute_input": "2023-08-10T11:21:25.733553Z",
     "iopub.status.busy": "2023-08-10T11:21:25.732252Z",
     "iopub.status.idle": "2023-08-10T11:21:26.541718Z",
     "shell.execute_reply": "2023-08-10T11:21:26.540870Z",
     "shell.execute_reply.started": "2023-08-10T11:21:25.733498Z"
    },
    "tags": []
   },
   "outputs": [
    {
     "name": "stdout",
     "output_type": "stream",
     "text": [
      "Using powershell_command='pwsh'\n",
      "Installing IPython kernel spec\n"
     ]
    }
   ],
   "source": [
    "# !pip3 install powershell_kernel\n",
    "# !python3 -m powershell_kernel.install\n",
    "# !python3 -m powershell_kernel.install --powershell-command pwsh"
   ]
  },
  {
   "cell_type": "markdown",
   "id": "81e6d26e-0b76-46b3-9cd2-5364421c9e2e",
   "metadata": {},
   "source": [
    "# <b>3.1 Basic commands</b>"
   ]
  },
  {
   "cell_type": "markdown",
   "id": "19e692ba-0d91-426d-96a5-f179b91572d0",
   "metadata": {},
   "source": [
    "<center>\n",
    "    <h2><b>Table 3.1 Basic Commands</b></h2>\n",
    "\n",
    "|Purpose|PowerShell|Bash|\n",
    "|-|-|-|\n",
    "|<b>Escape character</b>|backtick \\`|backslash \\\\|\n",
    "|<b>Clear the screen</b>|||\n",
    "||clear|clear|\n",
    "||ctrl + L|ctrl + L|\n",
    "||cls||\n",
    "|<b>Help</b>|||\n",
    "||Get-Help \\<command>|\\<command> --help|\n",
    "||Get-Help \\<command> -Full|man \\<command>|\n",
    "|<b>List Directories</b>|||\n",
    "||ls|ls|\n",
    "|list all|ls -Force|ls -a|\n",
    "|list more details||ls -l|\n",
    "|<b>Changing Directories</b>|||\n",
    "|print working directory|pwd|pwd|\n",
    "|change directory|cd \\<path>|cd\\<path>|\n",
    "|move a dir above|cd ..|cd ..|\n",
    "|move to a home dir|cd ~|cd ~|\n",
    "|<b>Make Directories</b>|||\n",
    "||mkdir new_folder|mkdir new_folder|\n",
    "|a name of a dir with spaces|mkdir 'new dir'|mkdir 'new dir'|\n",
    "||mkdir new\\` dir\\`|mkdir new\\\\ folder\\\\|\n",
    "|<b>Command History</b>|||\n",
    "||history|history|\n",
    "||arrows up and down|arrows up and down|\n",
    "||ctrl + R|ctrl + R|\n",
    "||#||\n",
    "|<b>Wildcards</b>|||\n",
    "|any number of characters|*|*|\n",
    "|<b>Copying Files & Directories<b/>|||\n",
    "||cp \\<src> \\<dst>|cp \\<src> \\<dst>|\n",
    "|copy multiple files at once|use * in \\<source>|the same|\n",
    "|copy a dir with the contents|cp \\<src> \\<dst> -Recurse|cp -r \\<src> \\<dst>|\n",
    "|output info on the screen|-Verbose||\n",
    "|<b>Moving and Renaming Files, Directories</b>|||\n",
    "|move|mv \\<src> \\<dst>|mv \\<src> \\<dst>|\n",
    "|rename|mv src_path == dst_path|mv src_path == dst_path|\n",
    "|<b>Removing Files & Directories</b>|||\n",
    "|remove a file|rm \\<src> \\<dst>|rm \\<src> \\<dst>|\n",
    "|remove a file forcibly|rm \\<src> \\<dst> -Force| rm -f \\<src> \\<dst>|\n",
    "|remove a dir|rm \\<src> \\<dst> -Recurse|rm -r \\<src> \\<dst>|"
   ]
  },
  {
   "cell_type": "markdown",
   "id": "ad6aafd4-44a6-4dab-b438-e1ba252e5f34",
   "metadata": {},
   "source": [
    "## Supplemental Reading for Windows CLI & Unix Bash"
   ]
  },
  {
   "cell_type": "markdown",
   "id": "e30af99d-57be-4bc1-9113-a37871c2f1d0",
   "metadata": {},
   "source": [
    "For more detailed information on the modern Windows CLI, PowerShell, see the \n",
    "[official PowerShell documentation](https://docs.microsoft.com/powershell/) and the [PowerShell 101 guide](https://docs.microsoft.com/powershell/scripting/learn/ps101/00-introduction). For more on the older Windows \"Command Prompt\" CLI (cmd.exe) please see the link [here](https://docs.microsoft.com/en-us/windows-server/administration/windows-commands/windows-commands).\n",
    "\n",
    "If you want to check out more information on Bash, then click the link [here](https://www.gnu.org/software/bash/manual/bash.html)."
   ]
  },
  {
   "cell_type": "markdown",
   "id": "60d528b6-8fba-4b5a-ba58-388528e4562f",
   "metadata": {},
   "source": [
    "## List Directories"
   ]
  },
  {
   "cell_type": "markdown",
   "id": "2397652b-d72a-4e92-b08d-8eeec715b6d0",
   "metadata": {},
   "source": [
    "### Windows"
   ]
  },
  {
   "cell_type": "markdown",
   "id": "7aacc447-67df-4b42-80ba-bda528f68f8c",
   "metadata": {},
   "source": [
    "CLI - Command Line Interface\n",
    "\n",
    "- Command Prompt: cmd.exe\n",
    "- **PowerShell**: powershell.exe"
   ]
  },
  {
   "cell_type": "markdown",
   "id": "d131c590-dd2c-4a60-875e-a305857b20f8",
   "metadata": {
    "tags": []
   },
   "source": [
    "Home directory is called **parent directory** (drive C) and it has **child directories**.\n",
    "\n",
    "```powershell\n",
    "ls C:\\\n",
    "\n",
    "# show all files including hidden ones\n",
    "ls -Force C:\\\n",
    "\n",
    "# get help on the command\n",
    "Get-Help ls\n",
    "\n",
    "# get help in more detail\n",
    "Get-Help ls -Full\n",
    "```"
   ]
  },
  {
   "cell_type": "markdown",
   "id": "d9627617-80d6-4f89-b1d3-6e6956b90f93",
   "metadata": {},
   "source": [
    "### Linux"
   ]
  },
  {
   "cell_type": "markdown",
   "id": "65ca7e39-8df9-403f-9375-19d98888c775",
   "metadata": {},
   "source": [
    "Home directory is called **root directory**:\n",
    "\n",
    "```\n",
    "/home/commi/Downloads\n",
    "```\n",
    "\n",
    "```bash\n",
    "# list the files from root directory\n",
    "ls /\n",
    "\n",
    "# list more info\n",
    "ls -l /\n",
    "\n",
    "# list all files, including hidden ones\n",
    "ls -a /\n",
    "\n",
    "# you can combine flags\n",
    "ls -la /\n",
    "\n",
    "# help information\n",
    "ls --help\n",
    "\n",
    "# manual\n",
    "man ls\n",
    "```"
   ]
  },
  {
   "cell_type": "markdown",
   "id": "ac4f686e-c6ad-4e9c-ba5b-40d4d48bc24d",
   "metadata": {},
   "source": [
    "## Changing Directories"
   ]
  },
  {
   "cell_type": "markdown",
   "id": "c25b7cf6-0dab-4d9a-be85-325558354a85",
   "metadata": {},
   "source": [
    "**Absolute path** - one that starts from the main directory.\n",
    "\n",
    "**Relative path** - the path from your current directory.\n",
    "\n",
    "**Tab completion** - using `tab` button to complete the unput."
   ]
  },
  {
   "cell_type": "markdown",
   "id": "9726f461-30d0-4d4f-8574-cae8ee9da5d7",
   "metadata": {},
   "source": [
    "## Supplemental Reading for 'Size' vs 'Size of Disk' in Windows"
   ]
  },
  {
   "cell_type": "markdown",
   "id": "c7c4031c-5481-4b10-9c3e-dd6a65849b0f",
   "metadata": {},
   "source": [
    "**Windows Confidential: Just What Is ‘Size on Disk’?**\n",
    "\n",
    "[Article](https://learn.microsoft.com/en-us/previous-versions/technet-magazine/hh148159(v=msdn.10)) 08/31/2016 Raymond Chen\n",
    "\n",
    "_When you get the stats for the size of a folder, where, exactly, do those measurements come from?_\n",
    "\n",
    "When you right-click to view the properties of a folder, the property sheet includes two values: Size and Size on disk. What exactly do these values mean? What are they measuring?\n",
    "\n",
    "The property sheet performs a naïve recursive directory search for all files. It doesn’t try to filter out file names referring to the same underlying file by means of a hard link. If you don’t have access to a subdirectory, the recursive directory search will skip that subdirectory, and those files won’t be counted in the total folder size.\n",
    "\n",
    "As it turns out, the recursive directory search has some smarts. Part of it is being smart on purpose: It detects reparse points and doesn’t recurse into them. Another part is being smart by accident: Symbolic links to files count as zero size. This isn’t because the directory search code is clever about the files. It’s because the directory entry for symbolic links reports them as having zero size. Now you know what files are counted, but where do those numbers come from?\n",
    "\n",
    "**Size Matters**\n",
    "\n",
    "The Size measurement is easy: It’s a running tally of the file sizes as reported by the FindFirstFile function in the WIN32_FIND_DATA.nFileSizeLow and nFileSizeHigh. Mind you, those values aren’t necessarily accurate either because of the way the NTFS file system updates directory entries. That’s a topic for another day, but the short version is that files still being written to may not report an accurate file size until the file handle is closed. Even then, it will only update the directory entry used to open the file.\n",
    "\n",
    "The Size on disk measurement is more complicated. If the drive supports compression (as reported by the FILE_FILE_COMPRESSION flag returned by the GetVolumeInformation function) and the file is compressed or sparse (FILE_ATTRIBUTE_COMPRESSED, FILE_ATTRIBUTE_SPARSE_FILE), then the Size on disk for a file is the value reported by the GetCompressedFileSize function. This reports the compressed size of the file (if compressed) or the size of the file minus the parts that were de-committed and logically treated as zero (if sparse). If the file is neither compressed nor sparse, then the Size on disk is the file size reported by the FindFirstFile function rounded up to the nearest cluster.\n",
    "\n",
    "The Windows 95 team originally developed the Size on disk algorithm. Their view of the file system world was biased by their MS-DOS background. There the only disk file system was FAT. There was no such thing as a hard link or alternate data stream. File contents were stored in units of clusters.\n",
    "\n",
    "Those assumptions don't hold true for NTFS—not even the “file contents are stored in units of clusters” part. In NTFS, a file can actually consume zero clusters for its data by stashing itself into slack space in the master file table (MFT). (For more details on this, see “[The Four Stages of NTFS File Growth](https://blogs.technet.com/b/askcore/archive/2009/10/16/the-four-stages-of-ntfs-file-growth.aspx)”).\n",
    "\n",
    "Naturally, the Size on disk algorithm doesn’t take into account other file system overhead, like the disk space occupied by the file name itself, directory entry information, file metadata and alternate data streams.\n",
    "\n",
    "The values reported by Size and Size on disk aren’t meant to be a byte-for-byte accounting of the total impact of a directory on your disk free space. They’re just a rough estimate based on the assumption that most files are of the boring variety. By that, I mean no hard links and negligible use of alternate data streams. If you have a directory with numerous hard links—such as the Windows directory itself, for example—the values will be way off.\n",
    "\n",
    "You can use Size on disk as a sniff-test to get a rough idea of the size of a directory, but remember that it’s a naïve calculation. If you need to keep careful tabs on disk consumption, you’d be better off using a feature like Disk Quotas, whose purpose is to more intelligently track disk consumption."
   ]
  },
  {
   "cell_type": "markdown",
   "id": "7fddfc28-8e69-46ee-8113-a93577672927",
   "metadata": {},
   "source": [
    "# <b>3.2 File and Text Manipulation</b>"
   ]
  },
  {
   "cell_type": "markdown",
   "id": "cc3b9b51-d5a8-4ca4-8831-f69913693d1a",
   "metadata": {},
   "source": [
    "<center>\n",
    "    <h2><b>Table 3.2 File and Text Manipulation</b></h2>\n",
    "\n",
    "|Purpose|PowerShell|Bash|\n",
    "|-|-|-|\n",
    "|**Display File Contents**|||\n",
    "|show the doc one at a time|cat \\<filename>|cat \\<filename>|\n",
    "|show the first 10 lines of the doc|cat \\<filename> -Head 10|head \\<filename>|\n",
    "|show the last 10 lines of the doc|cat \\<filename> -Tail 10|tail \\<filename>|\n",
    "|show page by page|more \\<filename> + space|more \\<filename> + space/arrows|\n",
    "|show line by line|more \\<filename> + Enter|more \\<filename> + Enter|\n",
    "|||less \\<filename> + arrow keys|\n",
    "|go to the beginning of the file||less \\<filename> + g key|\n",
    "|go to the end of the file||less \\<filename> + G key|\n",
    "|search for a word||less \\<filename> + /word_search|\n",
    "|quit|q|q|\n",
    "|**Find in Files**|||\n",
    "|searching within files|`sls` (string ls) or `Select-String`|`grep`|\n",
    "|searching within directories|`ls 'path' -Recurse -Filter *.file_ext`|`grep -wr '*.file_ext' path`|\n",
    "|searching in a file|`cat fname \\| sls word`|`cat fname \\| grep word`|\n",
    "|**Input, Output, and the Pipeline**|||\n",
    "|**stdin**|||\n",
    "|||`cat < fname`|\n",
    "|**stdout**|||\n",
    "|write to a new file|`echo > fname`|`echo > fname`|\n",
    "|append to the file|`echo >> fname`|`echo >> fname`|\n",
    "|combine ops|`cat fname \\| sls word > fname2`|`ls -la /etc \\| grep bluetooth > test.txt`|\n",
    "|**stderr**|||\n",
    "|save error msg to a file|`rm secure_file 2> fname`|`rm secure_file 2> fname`|\n",
    "|ignore error message|`rm secure_file 2> $null`|`rm secure_file 2> /dev/null`|\n",
    "\n",
    "`1`: stdout - the output  \n",
    "`2`: stderr - the error  \n",
    "`$null`: nowhere in PS  \n",
    "`/dev/null`: nowhere in Bash\n",
    "    \n",
    "See: `Get-Help about_redirection` in PowerShell"
   ]
  },
  {
   "cell_type": "markdown",
   "id": "4f98e6f4-a641-4d8b-b1f8-cdda81a9387e",
   "metadata": {},
   "source": [
    "## Text editors"
   ]
  },
  {
   "cell_type": "markdown",
   "id": "7a74d724-d560-4e88-89bc-474d2a3fa9f5",
   "metadata": {},
   "source": [
    "- Windows:\n",
    "    - [notepad++](https://notepad-plus-plus.org/)\n",
    "- Linux:\n",
    "    - [nano](https://www.nano-editor.org/)\n",
    "    - [vim](https://www.vim.org/)\n",
    "    - [emacs](https://www.gnu.org/software/emacs/tour/)"
   ]
  },
  {
   "cell_type": "markdown",
   "id": "81be656a-64a1-47ee-872e-6727f01cc254",
   "metadata": {},
   "source": [
    "# <b>3.3 Users, Administrators, and Groups</b>"
   ]
  },
  {
   "cell_type": "markdown",
   "id": "1f001cd2-22d9-4dad-b7a2-b943f17465ad",
   "metadata": {},
   "source": [
    "|Purpose|PowerShell|Bash|\n",
    "|-|-|-|\n",
    "|check users|`Get-LocalUser`|`cat /etc/passwd`|\n",
    "|check groups|`Get-LocalGroup`|`cat /etc/group`|\n",
    "|check users with administrative rights|`Get-LocalGroupMember Administrators`|`sudo cat /etc/sudoers`|\n",
    "|work as a root user||`su -` substitute user (`exit`)|\n",
    "|**Passwords**|||\n",
    "|change user password|`net user <name> 'password'`|`passwd <username>` (stored in `/etc/shadow`)|\n",
    "||`net user <name> *` will hide password from screen||\n",
    "|change pwd on the next logon|`net user <name> * /logonpasswordchg:yes`|`sudo passwd -e <uname>` (expire flag)|\n",
    "|**Adding\\removing users**|||\n",
    "|add a new user|`net user <uname> * /add /logonpasswordchg:yes`|`sudo useradd <name>`|\n",
    "|delete a user's account|`net user <name> /del`|`sudo userdel <name>`|\n",
    "||`Remove-LocalUser <name>`||"
   ]
  },
  {
   "cell_type": "markdown",
   "id": "9294353a-f4cc-4c93-a081-a3a30a701a19",
   "metadata": {},
   "source": [
    "## Windows GUI"
   ]
  },
  {
   "cell_type": "markdown",
   "id": "92021e34-64ec-48fb-a105-05192e23d00e",
   "metadata": {
    "execution": {
     "iopub.execute_input": "2023-08-17T13:34:19.653758Z",
     "iopub.status.busy": "2023-08-17T13:34:19.652508Z",
     "iopub.status.idle": "2023-08-17T13:34:20.959833Z",
     "shell.execute_reply": "2023-08-17T13:34:20.957787Z",
     "shell.execute_reply.started": "2023-08-17T13:34:19.653705Z"
    },
    "tags": []
   },
   "source": [
    "- Computer Management: Control Panel -> Administrative Tools -> Local Users and Groups\n",
    "\n",
    "- Add a new user: Users + right click `New user`"
   ]
  },
  {
   "cell_type": "markdown",
   "id": "1ee1bbc9-c925-4184-a545-8a2f3c1c96fd",
   "metadata": {},
   "source": [
    "## Linux"
   ]
  },
  {
   "cell_type": "code",
   "execution_count": 1,
   "id": "a705bdd6-4829-4d9b-8fb5-3708881c8ba7",
   "metadata": {
    "tags": []
   },
   "outputs": [
    {
     "name": "stdout",
     "output_type": "stream",
     "text": [
      "root:x:0:0:root:/root:/bin/bash\n"
     ]
    }
   ],
   "source": [
    "cat /etc/passwd | grep root"
   ]
  },
  {
   "cell_type": "markdown",
   "id": "ce3a680e-cedf-4758-ae33-00a2f5bb95ea",
   "metadata": {},
   "source": [
    "User `root` with password `x` (stored in another file) with index `0:0`."
   ]
  },
  {
   "cell_type": "code",
   "execution_count": 3,
   "id": "57635634-5a66-4e5e-a350-f2bdb6a6613b",
   "metadata": {
    "tags": []
   },
   "outputs": [
    {
     "name": "stdout",
     "output_type": "stream",
     "text": [
      "sudo:x:27:\n"
     ]
    }
   ],
   "source": [
    "cat /etc/group | grep sudo"
   ]
  },
  {
   "cell_type": "markdown",
   "id": "a869c2a6-41d5-4705-a0cf-9447868fde4c",
   "metadata": {},
   "source": [
    "- `x` is the group password which is the root's password by default,\n",
    "- `27` is group id."
   ]
  },
  {
   "cell_type": "markdown",
   "id": "8b45a510-9888-451c-a54b-0c0a197dd3e4",
   "metadata": {
    "jp-MarkdownHeadingCollapsed": true,
    "tags": []
   },
   "source": [
    "## Supplemental Reading: [Selecting Secure Passwords](https://learn.microsoft.com/en-us/previous-versions/tn-archive/cc875839(v=technet.10)?redirectedfrom=MSDN)"
   ]
  },
  {
   "cell_type": "markdown",
   "id": "fbbdb8d1-cf7a-4205-b572-85ef7cfca1c0",
   "metadata": {},
   "source": [
    "### Introduction"
   ]
  },
  {
   "cell_type": "markdown",
   "id": "8a340fe9-1aa5-4d16-a518-65d666501a15",
   "metadata": {},
   "source": [
    "Although many alternatives for user authentication are available today, most users log on to their computer and remote computers using a combination of their user name and a password typed at their keyboard. There are products that use more secure technologies such as biometrics, smart cards, and one-time passwords available for all popular operating systems; but the reality is that many organizations still rely on passwords and they will continue to do so for years to come. Users often have many different computer accounts at work, for their cell phone, at their bank, with insurance companies, and so on. To make it easier to remember their passwords, users often use the same or similar passwords on each system; and given a choice, most users will select a very simple and easy-to-remember password such as their birthday, their mother's maiden name, or the name of a relative. Short and simple passwords are relatively easy for attackers to determine. Some common methods that attackers use for discovering a victim's password include:\n",
    "\n",
    "- Guessing-The attacker attempts to log on using the user's account by repeatedly guessing likely words and phrases such as their children's names, their city of birth, and local sports teams.\n",
    "\n",
    "- Online Dictionary Attack-The attacker uses an automated program that includes a text file of words. The program repeatedly attempts to log on to the target system using a different word from the text file on each try.\n",
    "\n",
    "- Offline Dictionary Attack-Similar to the online dictionary attack, the attacker gets a copy of the file where the hashed or encrypted copy of user accounts and passwords are stored and uses an automated program to determine what the password is for each account. This type of attack can be completed very quickly once the attacker has managed to get a copy of the password file.\n",
    "\n",
    "- Offline Brute Force Attack-This is a variation of the dictionary attacks, but it is designed to determine passwords that may not be included in the text file used in those attacks. Although a brute force attack can be attempted online, due to network bandwidth and latency they are usually undertaken offline using a copy of the target system's password file. In a brute force attack the attacker uses an automated program that generates hashes or encrypted values for all possible passwords and compares them to the values in the password file.\n",
    "\n",
    "Each of these attack methods can be slowed down significantly or even defeated through the use of strong passwords. Therefore, whenever possible, computer users should use strong passwords for all of their computer accounts. Computers running versions of Windows based on Microsoft Windows NT, including Windows NT 4.0, Windows 2000, Windows XP, and Windows Server 2003, support strong passwords. In Windows, a strong password is a password that includes characters from at least three of the five groups in the following Character Classes table.\n",
    "\n",
    "<center>\n",
    "<b>Character Classes</b>\n",
    "\n",
    "<div class=\"has-inner-focus\"><table aria-label=\"Table 1\" class=\"table table-sm\">\n",
    "<colgroup>\n",
    "<col>\n",
    "<col>\n",
    "</colgroup>\n",
    "<thead>\n",
    "<tr class=\"header\">\n",
    "<th><p>Group</p></th>\n",
    "<th><p>Example</p></th>\n",
    "</tr>\n",
    "</thead>\n",
    "<tbody>\n",
    "<tr class=\"odd\">\n",
    "<td><p>Lowercase letters</p></td>\n",
    "<td><p>a, b, c, ...</p></td>\n",
    "</tr>\n",
    "<tr class=\"even\">\n",
    "<td><p>Uppercase letters</p></td>\n",
    "<td><p>A, B, C, ...</p></td>\n",
    "</tr>\n",
    "<tr class=\"odd\">\n",
    "<td><p>Numerals</p></td>\n",
    "<td><p>0, 1, 2, 3, 4, 5, 6, 7, 8, 9</p></td>\n",
    "</tr>\n",
    "<tr class=\"even\">\n",
    "<td><p>Non-alphanumeric (symbols)</p></td>\n",
    "<td><p>( ) ` ~ ! @ # $ % ^ &amp; * - + = | \\ { } [ ] : ; \" ' &lt; &gt; , . ? /</p></td>\n",
    "</tr>\n",
    "<tr class=\"odd\">\n",
    "<td><p>Unicode characters</p></td>\n",
    "<td><p>€, Γ, ƒ, and λ</p></td>\n",
    "</tr>\n",
    "</tbody>\n",
    "</table></div>\n",
    "\n",
    "**Note**: Space characters do not fall under any of these five groups and do not count towards the password complexity requirements.\n",
    "\n",
    "The passwords of particularly sensitive accounts such as those used by administrators or senior executives or for running critical network services should be composed from four or even all five of these groups. On the other hand, passwords that must be used by human beings must be easily remembered; the loss of an executive or critical administrator account password could be devastating. This document describes how passwords are stored in the Windows family of operating systems and gives guidance to Administrators on how to maximize the security of their passwords.\n",
    "\n",
    "These contradictory requirements can be overcome by thinking about pass phrases rather than passwords. Every version of Windows that supports strong passwords supports the use of spaces and punctuation symbols in account passwords. For example, \"I re@lly want to buy 11 Dogs!\" is a valid pass phrase. With more than twenty characters it is a very long pass phrase, and it includes characters from 4 of the 5 possible groups. It is also easy to remember! Most password cracking tools assume the password will never exceed 14 characters, which is the limit that DOS network boot disks, Microsoft Remote Installation Services (RIS) Pre eXecutable Environment (PXE) boot disks, and older LAN Manager clients (Win9x) must utilize. Even without complexity, a very long password (>14 characters, up to 128 characters) can be the best possible protection against having an especially sensitive password broken.\n",
    "\n",
    "Note: Do not use the example passwords within this document. Although the password discussed above, \"I re@lly want to buy 11 Dogs!\", is very long and complex, attackers may add it and other sample passwords in this document to their attack tools.\n",
    "\n",
    "If administrators have legacy systems, RIS, or similar requirements to adhere to, or if they simply dislike dealing with an especially lengthy password, using a shorter password with complex characters offers good protection. However, keep in mind the longer the password the more difficult it is to break. And \n",
    "\n",
    "> adding both complexity and length makes it the most difficult of all to break. \n",
    "\n",
    "Establishing password policies for your organization will help to protect your users from attackers who try to impersonate them, thereby protecting your organization from the loss, exposure, or corruption of sensitive information.\n",
    "\n",
    "This document explains how passwords are stored in the Windows family of operating systems, gives guidance to administrators on how to maximize the security of their passwords, and explains to users how to create new passwords that meet the complexity requirements and are still easy to remember.\n",
    "\n",
    "The document includes information and guidance on the following topics:\n",
    "\n",
    "- Additional details about password cracking.\n",
    "\n",
    "- How Windows stores passwords including information about LAN Manager (LM) hashes and NTLM hashes.\n",
    "\n",
    "- Description of Unicode characters and using Unicode characters by entering ALT key combinations.\n",
    "\n",
    "- Requirements for legacy systems such as Windows 98.\n",
    "\n",
    "- Establishing a password policy for your organization.\n",
    "\n",
    "- Communicating password complexity to end users, which includes text that is ready for you to customize and forward to the people who work in your organization.\n",
    "\n",
    "- Resources for additional information including links to Web sites with related information that may help you to establish strong password policies in your organization."
   ]
  },
  {
   "cell_type": "markdown",
   "id": "771c6864-2870-4676-abda-3ca530b0f5fb",
   "metadata": {},
   "source": [
    "### Before You Begin"
   ]
  },
  {
   "cell_type": "markdown",
   "id": "e3ea57dc-9413-48ed-aa85-a85bd59f548f",
   "metadata": {},
   "source": [
    "Before proceeding with the discussion of password policy creation it is important that you have a solid understanding of how password hashes are created and stored by the Windows operating system family. It will also be helpful for you to fully understand other concepts related to password complexity such as entropy, Unicode characters, and ALT characters."
   ]
  },
  {
   "cell_type": "markdown",
   "id": "8b09784d-31d4-4a1f-a8f7-7229eeb8cba4",
   "metadata": {},
   "source": [
    "### Password Storage in Windows"
   ]
  },
  {
   "cell_type": "markdown",
   "id": "7159c0fc-d439-4cf0-b480-620409ac0fcb",
   "metadata": {},
   "source": [
    "By default, Windows NT 4.0, Windows 2000, Windows XP, and Windows Server 2003 never store user passwords in plaintext. Instead, passwords are stored using two different password representations, commonly called \"**hashes**.\" The first, the **LAN Manager (LM) hash**, is much less secure than the second, the **NTLM hash**. The reason for storing both representations is for backward compatibility with older applications and operating systems such as Windows 98."
   ]
  },
  {
   "cell_type": "markdown",
   "id": "fa2242df-26ac-44b2-a61a-948fa9abfa8c",
   "metadata": {},
   "source": [
    "#### The LAN Manager (LM) Hash"
   ]
  },
  {
   "cell_type": "markdown",
   "id": "252529f8-621f-4ccd-9be9-8fcff7c6d85b",
   "metadata": {},
   "source": [
    "The LM hash is technically speaking not a hash at all. It is computed as follows:\n",
    "\n",
    "- Convert all lowercase characters in the password to uppercase\n",
    "\n",
    "- Pad the password with NULL characters until it is exactly 14 characters long\n",
    "\n",
    "- Split the password into two 7 character chunks\n",
    "\n",
    "- Use each chunk separately as a DES key to encrypt a specific string\n",
    "\n",
    "- Concatenate the two cipher texts into a 128-bit string and store the result\n",
    "\n",
    "As a result of the algorithm used to generate the LM hash, the hash is very easy to break. First, even a password longer than 8 characters can be attacked in two discrete chunks. Second, the entire lowercase character set can be ignored. This means that most password cracking tools will start by cracking the LM hashes and then simply vary the alpha characters in the cracked password to generate the case-sensitive passwords. Note that in order to log on to a computer running Windows 2000, whether remotely or locally, you will need to use the case-preserved password."
   ]
  },
  {
   "cell_type": "markdown",
   "id": "819f30ec-8d1a-4f4b-8dfb-75e048e090c7",
   "metadata": {},
   "source": [
    "#### The NTLM Hash"
   ]
  },
  {
   "cell_type": "markdown",
   "id": "744039c5-144b-4bd0-a5fc-d0f0e56fd72f",
   "metadata": {},
   "source": [
    "The NTLM hash is also known as the **Unicode hash** because it supports the full Unicode character set. The NTLM hash is calculated by taking the plain text password and generating a **Message Digest 4 (MD4) hash** of it. The MD4 hash is what is actually stored in either the **Active Directory database** or the local **Security Accounts Manager (SAM) database**. The NTLM hash is much more resistant to brute force attacks than the LM hash. Brute forcing an NTLM hash takes several orders of magnitude longer than brute forcing the NTLM hash of the same password."
   ]
  },
  {
   "cell_type": "markdown",
   "id": "66a6d64e-1e98-45d9-99b8-1c7b0695f5f0",
   "metadata": {},
   "source": [
    "### Entropy"
   ]
  },
  {
   "cell_type": "markdown",
   "id": "3ab161b8-8f70-4266-914c-2afa71f920ff",
   "metadata": {},
   "source": [
    "Entropy is a measure of disorder in a system. The level of entropy in a password is determined by how random it is in terms of the range and order of characters in it. When selecting a password that is resistant to cracking, it is important that you carefully pick your entropy and where it appears in the password. Most brute force password cracking tools start out by search for alphanumeric characters and symbols present on most keyboards such as ` ~ ! @ # $ % ^ & * ( ) _ - + = (sometimes called the \"upper row symbols\" because they appear on the top row of most U.S. keyboards). With that knowledge you can make a password more resistant to cracking by using different symbols such as these: [ ] { } < >. You increase their resistance to cracking even further by using ALT key combinations. \n",
    "\n",
    "> Note that due to the way LM hashes are created, putting a symbol as the only entropy in the eighth position of an eight character password only has a small impact on password complexity. For maximum entropy and complexity, non-alphanumeric characters need to be present throughout the password."
   ]
  },
  {
   "cell_type": "markdown",
   "id": "71b3101d-ae04-4e21-8020-ab56e6a6f880",
   "metadata": {},
   "source": [
    "### Using Unicode Characters in ALT Key Combinations"
   ]
  },
  {
   "cell_type": "markdown",
   "id": "f4613ff9-fbc0-4192-a559-1af980bf6f6a",
   "metadata": {},
   "source": [
    "Most users should have no problem finding pass phrases that they can easily remember, but for particularly sensitive accounts such as those with domain administrator privileges it is highly recommended that Unicode characters are included in the passwords using ALT key combinations. These are characters that do not appear on standard U.S. keyboards. You enter them by holding down the `ALT` key (or the `FN` and the `ALT` key on most laptop computers) and typing a three- or four-digit number on the numeric keypad (the numeric overlay keypad on a laptop computer).\n",
    "\n",
    "The use of these types of characters greatly strengthens passwords in two ways: \n",
    "\n",
    "- First, password cracking tools are often unable to test the vast majority of these types of characters. \n",
    "- Second, the use of these characters greatly increases the range of characters that may appear in your password, which strengthens the potential complexity of the password by many orders of magnitude. \n",
    "\n",
    "When using ALT key combinations it is very important that you remember the leading zero, if present, because leaving the zero off results in a different character. For example, `ALT+128` is `Ç`, while `ALT+0128` is `€`. The rest of this section focuses on four digit codes, which access the entire Unicode character set, and ignore the three digit codes, which only access the extended ASCII character set.\n",
    "\n",
    "The following table lists the numerical values that can be used as ALT key combinations. Recommended values are between 0128 and 1024. Each cell in the table below shows either a single value or a range of values. For example, the first cell shows \"0128-0159.\" This means that you could use any value between 0128 and 0159, such as ALT+0135, which corresponds to the Unicode character \"‡\".\n",
    "\n",
    "<center>\n",
    "<b>Recommended ALT Code to Use for ALT Key Combinations</b>\n",
    "\n",
    "<div class=\"has-inner-focus\"><table aria-label=\"Table 2\" class=\"table table-sm\">\n",
    "<colgroup>\n",
    "<col>\n",
    "<col>\n",
    "<col>\n",
    "<col>\n",
    "</colgroup>\n",
    "<tbody>\n",
    "<tr class=\"odd\">\n",
    "<td><p>0128-0159</p></td>\n",
    "<td><p>0306-0307</p></td>\n",
    "<td><p>0312</p></td>\n",
    "<td><p>0319-0320</p></td>\n",
    "</tr>\n",
    "<tr class=\"even\">\n",
    "<td><p>0329-0331</p></td>\n",
    "<td><p>0383</p></td>\n",
    "<td><p>0385-0406</p></td>\n",
    "<td><p>0408-0409</p></td>\n",
    "</tr>\n",
    "<tr class=\"odd\">\n",
    "<td><p>0411-0414</p></td>\n",
    "<td><p>0418-0424</p></td>\n",
    "<td><p>0426</p></td>\n",
    "<td><p>0428-0429</p></td>\n",
    "</tr>\n",
    "<tr class=\"even\">\n",
    "<td><p>0433-0437</p></td>\n",
    "<td><p>0439-0447</p></td>\n",
    "<td><p>0449-0450</p></td>\n",
    "<td><p>0452-0460</p></td>\n",
    "</tr>\n",
    "<tr class=\"odd\">\n",
    "<td><p>0477</p></td>\n",
    "<td><p>0480-0483</p></td>\n",
    "<td><p>0494-0495</p></td>\n",
    "<td><p>0497-0608</p></td>\n",
    "</tr>\n",
    "<tr class=\"even\">\n",
    "<td><p>0610-0631</p></td>\n",
    "<td><p>0633-0696</p></td>\n",
    "<td><p>0699</p></td>\n",
    "<td><p>0701-0707</p></td>\n",
    "</tr>\n",
    "<tr class=\"odd\">\n",
    "<td><p>0709</p></td>\n",
    "<td><p>0711</p></td>\n",
    "<td><p>0716</p></td>\n",
    "<td><p>0718-0729</p></td>\n",
    "</tr>\n",
    "<tr class=\"even\">\n",
    "<td><p>0731</p></td>\n",
    "<td><p>0733-0767</p></td>\n",
    "<td><p>0773-0775</p></td>\n",
    "<td><p>0777</p></td>\n",
    "</tr>\n",
    "<tr class=\"odd\">\n",
    "<td><p>0779-0781</p></td>\n",
    "<td><p>0783-0806</p></td>\n",
    "<td><p>0808-0816</p></td>\n",
    "<td><p>0819-0893</p></td>\n",
    "</tr>\n",
    "<tr class=\"even\">\n",
    "<td><p>0895-0912</p></td>\n",
    "<td><p>0914</p></td>\n",
    "<td><p>0918-0919</p></td>\n",
    "<td><p>0921-0927</p></td>\n",
    "</tr>\n",
    "<tr class=\"odd\">\n",
    "<td><p>0929-0930</p></td>\n",
    "<td><p>0933</p></td>\n",
    "<td><p>0935-0936</p></td>\n",
    "<td><p>0938-0944</p></td>\n",
    "</tr>\n",
    "<tr class=\"even\">\n",
    "<td><p>0947</p></td>\n",
    "<td><p>0950-0955</p></td>\n",
    "<td><p>0957-0959</p></td>\n",
    "<td><p>0961-0962</p></td>\n",
    "</tr>\n",
    "<tr class=\"odd\">\n",
    "<td><p>0965</p></td>\n",
    "<td><p>0967-1024</p></td>\n",
    "<td><p>&nbsp;</p></td>\n",
    "<td><p>&nbsp;</p></td>\n",
    "</tr>\n",
    "</tbody>\n",
    "</table></div> \n",
    "\n",
    "Not all Unicode characters increase password complexity because they are automatically converted to ASCII characters, resulting in a weakened password instead. The following table shows character codes that should not be used in a password and the ASCII character to which they are converted.\n",
    "\n",
    "<center>\n",
    "<b>ALT Code Not to Use for ALT Key Combinations</b>\n",
    "\n",
    "<div class=\"has-inner-focus\"><table aria-label=\"Table 3\" class=\"table table-sm\">\n",
    "<colgroup>\n",
    "<col>\n",
    "<col>\n",
    "<col>\n",
    "</colgroup>\n",
    "<thead>\n",
    "<tr class=\"header\">\n",
    "<th><p>ALT Code</p></th>\n",
    "<th><p>Unicode Character</p></th>\n",
    "<th><p>Resulting Character</p></th>\n",
    "</tr>\n",
    "</thead>\n",
    "<tbody>\n",
    "<tr class=\"odd\">\n",
    "<td><p>0175</p></td>\n",
    "<td><p>¯</p></td>\n",
    "<td><p>_</p></td>\n",
    "</tr>\n",
    "<tr class=\"even\">\n",
    "<td><p>0190</p></td>\n",
    "<td><p>¾</p></td>\n",
    "<td><p>_</p></td>\n",
    "</tr>\n",
    "<tr class=\"odd\">\n",
    "<td><p>0222</p></td>\n",
    "<td><p>Þ</p></td>\n",
    "<td><p>_</p></td>\n",
    "</tr>\n",
    "<tr class=\"even\">\n",
    "<td><p>0254</p></td>\n",
    "<td><p>þ</p></td>\n",
    "<td><p>_</p></td>\n",
    "</tr>\n",
    "<tr class=\"odd\">\n",
    "<td><p>0101</p></td>\n",
    "<td><p>e</p></td>\n",
    "<td><p>E</p></td>\n",
    "</tr>\n",
    "<tr class=\"even\">\n",
    "<td><p>0200</p></td>\n",
    "<td><p>È</p></td>\n",
    "<td><p>E</p></td>\n",
    "</tr>\n",
    "<tr class=\"odd\">\n",
    "<td><p>0202</p></td>\n",
    "<td><p>Ê</p></td>\n",
    "<td><p>E</p></td>\n",
    "</tr>\n",
    "<tr class=\"even\">\n",
    "<td><p>0203</p></td>\n",
    "<td><p>Ë</p></td>\n",
    "<td><p>E</p></td>\n",
    "</tr>\n",
    "<tr class=\"odd\">\n",
    "<td><p>0232</p></td>\n",
    "<td><p>è</p></td>\n",
    "<td><p>E</p></td>\n",
    "</tr>\n",
    "<tr class=\"even\">\n",
    "<td><p>0234</p></td>\n",
    "<td><p>ê</p></td>\n",
    "<td><p>E</p></td>\n",
    "</tr>\n",
    "<tr class=\"odd\">\n",
    "<td><p>0235</p></td>\n",
    "<td><p>ë</p></td>\n",
    "<td><p>E</p></td>\n",
    "</tr>\n",
    "<tr class=\"even\">\n",
    "<td><p>0100</p></td>\n",
    "<td><p>d</p></td>\n",
    "<td><p>D</p></td>\n",
    "</tr>\n",
    "<tr class=\"odd\">\n",
    "<td><p>0208</p></td>\n",
    "<td><p>Ð</p></td>\n",
    "<td><p>D</p></td>\n",
    "</tr>\n",
    "<tr class=\"even\">\n",
    "<td><p>0240</p></td>\n",
    "<td><p>ð</p></td>\n",
    "<td><p>D</p></td>\n",
    "</tr>\n",
    "<tr class=\"odd\">\n",
    "<td><p>0117</p></td>\n",
    "<td><p>u</p></td>\n",
    "<td><p>U</p></td>\n",
    "</tr>\n",
    "<tr class=\"even\">\n",
    "<td><p>0217</p></td>\n",
    "<td><p>Ù</p></td>\n",
    "<td><p>U</p></td>\n",
    "</tr>\n",
    "<tr class=\"odd\">\n",
    "<td><p>0218</p></td>\n",
    "<td><p>Ú</p></td>\n",
    "<td><p>U</p></td>\n",
    "</tr>\n",
    "<tr class=\"even\">\n",
    "<td><p>0219</p></td>\n",
    "<td><p>Û</p></td>\n",
    "<td><p>U</p></td>\n",
    "</tr>\n",
    "<tr class=\"odd\">\n",
    "<td><p>0249</p></td>\n",
    "<td><p>ù</p></td>\n",
    "<td><p>U</p></td>\n",
    "</tr>\n",
    "<tr class=\"even\">\n",
    "<td><p>0250</p></td>\n",
    "<td><p>ú</p></td>\n",
    "<td><p>U</p></td>\n",
    "</tr>\n",
    "<tr class=\"odd\">\n",
    "<td><p>0251</p></td>\n",
    "<td><p>û</p></td>\n",
    "<td><p>U</p></td>\n",
    "</tr>\n",
    "<tr class=\"even\">\n",
    "<td><p>0192</p></td>\n",
    "<td><p>À</p></td>\n",
    "<td><p>A</p></td>\n",
    "</tr>\n",
    "<tr class=\"odd\">\n",
    "<td><p>0193</p></td>\n",
    "<td><p>Á</p></td>\n",
    "<td><p>A</p></td>\n",
    "</tr>\n",
    "<tr class=\"even\">\n",
    "<td><p>0194</p></td>\n",
    "<td><p>Â</p></td>\n",
    "<td><p>A</p></td>\n",
    "</tr>\n",
    "<tr class=\"odd\">\n",
    "<td><p>0195</p></td>\n",
    "<td><p>Ã</p></td>\n",
    "<td><p>A</p></td>\n",
    "</tr>\n",
    "<tr class=\"even\">\n",
    "<td><p>0224</p></td>\n",
    "<td><p>à</p></td>\n",
    "<td><p>A</p></td>\n",
    "</tr>\n",
    "<tr class=\"odd\">\n",
    "<td><p>0225</p></td>\n",
    "<td><p>á</p></td>\n",
    "<td><p>A</p></td>\n",
    "</tr>\n",
    "<tr class=\"even\">\n",
    "<td><p>0226</p></td>\n",
    "<td><p>â</p></td>\n",
    "<td><p>A</p></td>\n",
    "</tr>\n",
    "<tr class=\"odd\">\n",
    "<td><p>0227</p></td>\n",
    "<td><p>ã</p></td>\n",
    "<td><p>A</p></td>\n",
    "</tr>\n",
    "<tr class=\"even\">\n",
    "<td><p>0065</p></td>\n",
    "<td><p>A</p></td>\n",
    "<td><p>A</p></td>\n",
    "</tr>\n",
    "<tr class=\"odd\">\n",
    "<td><p>0114</p></td>\n",
    "<td><p>r</p></td>\n",
    "<td><p>R</p></td>\n",
    "</tr>\n",
    "<tr class=\"even\">\n",
    "<td><p>0174</p></td>\n",
    "<td><p>®</p></td>\n",
    "<td><p>R</p></td>\n",
    "</tr>\n",
    "<tr class=\"odd\">\n",
    "<td><p>0121</p></td>\n",
    "<td><p>y</p></td>\n",
    "<td><p>Y</p></td>\n",
    "</tr>\n",
    "<tr class=\"even\">\n",
    "<td><p>0221</p></td>\n",
    "<td><p>Ý</p></td>\n",
    "<td><p>Y</p></td>\n",
    "</tr>\n",
    "<tr class=\"odd\">\n",
    "<td><p>0253</p></td>\n",
    "<td><p>ý</p></td>\n",
    "<td><p>Y</p></td>\n",
    "</tr>\n",
    "<tr class=\"even\">\n",
    "<td><p>0255</p></td>\n",
    "<td><p>ÿ</p></td>\n",
    "<td><p>Y</p></td>\n",
    "</tr>\n",
    "<tr class=\"odd\">\n",
    "<td><p>0120</p></td>\n",
    "<td><p>x</p></td>\n",
    "<td><p>X</p></td>\n",
    "</tr>\n",
    "<tr class=\"even\">\n",
    "<td><p>0215</p></td>\n",
    "<td><p>×</p></td>\n",
    "<td><p>X</p></td>\n",
    "</tr>\n",
    "<tr class=\"odd\">\n",
    "<td><p>0111</p></td>\n",
    "<td><p>o</p></td>\n",
    "<td><p>O</p></td>\n",
    "</tr>\n",
    "<tr class=\"even\">\n",
    "<td><p>0210</p></td>\n",
    "<td><p>Ò</p></td>\n",
    "<td><p>O</p></td>\n",
    "</tr>\n",
    "<tr class=\"odd\">\n",
    "<td><p>0211</p></td>\n",
    "<td><p>Ó</p></td>\n",
    "<td><p>O</p></td>\n",
    "</tr>\n",
    "<tr class=\"even\">\n",
    "<td><p>0212</p></td>\n",
    "<td><p>Ô</p></td>\n",
    "<td><p>O</p></td>\n",
    "</tr>\n",
    "<tr class=\"odd\">\n",
    "<td><p>0213</p></td>\n",
    "<td><p>Õ</p></td>\n",
    "<td><p>O</p></td>\n",
    "</tr>\n",
    "<tr class=\"even\">\n",
    "<td><p>0216</p></td>\n",
    "<td><p>Ø</p></td>\n",
    "<td><p>O</p></td>\n",
    "</tr>\n",
    "<tr class=\"odd\">\n",
    "<td><p>0242</p></td>\n",
    "<td><p>ò</p></td>\n",
    "<td><p>O</p></td>\n",
    "</tr>\n",
    "<tr class=\"even\">\n",
    "<td><p>0243</p></td>\n",
    "<td><p>ó</p></td>\n",
    "<td><p>O</p></td>\n",
    "</tr>\n",
    "<tr class=\"odd\">\n",
    "<td><p>0244</p></td>\n",
    "<td><p>ô</p></td>\n",
    "<td><p>O</p></td>\n",
    "</tr>\n",
    "<tr class=\"even\">\n",
    "<td><p>0245</p></td>\n",
    "<td><p>õ</p></td>\n",
    "<td><p>O</p></td>\n",
    "</tr>\n",
    "<tr class=\"odd\">\n",
    "<td><p>0248</p></td>\n",
    "<td><p>ø</p></td>\n",
    "<td><p>O</p></td>\n",
    "</tr>\n",
    "<tr class=\"even\">\n",
    "<td><p>0105</p></td>\n",
    "<td><p>i</p></td>\n",
    "<td><p>I</p></td>\n",
    "</tr>\n",
    "<tr class=\"odd\">\n",
    "<td><p>0204</p></td>\n",
    "<td><p>Ì</p></td>\n",
    "<td><p>I</p></td>\n",
    "</tr>\n",
    "<tr class=\"even\">\n",
    "<td><p>0205</p></td>\n",
    "<td><p>Í</p></td>\n",
    "<td><p>I</p></td>\n",
    "</tr>\n",
    "<tr class=\"odd\">\n",
    "<td><p>0206</p></td>\n",
    "<td><p>Î</p></td>\n",
    "<td><p>I</p></td>\n",
    "</tr>\n",
    "<tr class=\"even\">\n",
    "<td><p>0207</p></td>\n",
    "<td><p>Ï</p></td>\n",
    "<td><p>I</p></td>\n",
    "</tr>\n",
    "<tr class=\"odd\">\n",
    "<td><p>0236</p></td>\n",
    "<td><p>ì</p></td>\n",
    "<td><p>I</p></td>\n",
    "</tr>\n",
    "<tr class=\"even\">\n",
    "<td><p>0237</p></td>\n",
    "<td><p>í</p></td>\n",
    "<td><p>I</p></td>\n",
    "</tr>\n",
    "<tr class=\"odd\">\n",
    "<td><p>0238</p></td>\n",
    "<td><p>î</p></td>\n",
    "<td><p>I</p></td>\n",
    "</tr>\n",
    "<tr class=\"even\">\n",
    "<td><p>0239</p></td>\n",
    "<td><p>ï</p></td>\n",
    "<td><p>I</p></td>\n",
    "</tr>\n",
    "<tr class=\"odd\">\n",
    "<td><p>0169</p></td>\n",
    "<td><p>©</p></td>\n",
    "<td><p>C</p></td>\n",
    "</tr>\n",
    "<tr class=\"even\">\n",
    "<td><p>0099</p></td>\n",
    "<td><p>c</p></td>\n",
    "<td><p>C</p></td>\n",
    "</tr>\n",
    "</tbody>\n",
    "</table></div>"
   ]
  },
  {
   "cell_type": "markdown",
   "id": "c87a3ddd-d684-486a-be30-6fd43060862d",
   "metadata": {},
   "source": [
    "### Password Age and Reuse"
   ]
  },
  {
   "cell_type": "markdown",
   "id": "a0969030-7d3f-4d96-b11a-ceee660bf9d0",
   "metadata": {},
   "source": [
    "Users should also change their passwords frequently. Even though long and strong passwords are much more difficult to break than short and simple ones, they can still be cracked. An attacker who has enough time and computing power at his disposal can eventually break any password. In general, passwords should be changed within 42 days, and old passwords should never be reused."
   ]
  },
  {
   "cell_type": "markdown",
   "id": "e3189954-2686-4de7-8310-f19e51bc182b",
   "metadata": {},
   "source": [
    "### Developing a Password Policy for Your Organization"
   ]
  },
  {
   "cell_type": "markdown",
   "id": "fd06bb16-065b-4b19-9c06-c265a9e0d884",
   "metadata": {},
   "source": [
    "This section provides the following step-by-step instructions for enhancing security by creating and communicating a password policy for your organization.\n",
    "\n",
    "- Identifying what computer operating systems are present on your organization's network\n",
    "\n",
    "- Understanding what the limitations are for those operating systems\n",
    "\n",
    "- Defining what the technical requirements for passwords will be on your organization's network.\n",
    "\n",
    "- Determining how much formality is appropriate regarding the documentation and communication of the password policy for your organization\n",
    "\n",
    "- Documenting the password policy in writing\n",
    "\n",
    "- Communicating the password policy to the users before implementing it on your systems\n",
    "\n",
    "- Implementing the password policy on your organization's computer systems\n",
    "\n",
    "- Reminding users on an ongoing basis about importance of observing the password policy and other corporate security policies."
   ]
  },
  {
   "cell_type": "markdown",
   "id": "993a80cf-cbc5-4f7b-b0a9-c3acb1a45bc3",
   "metadata": {},
   "source": [
    "#### Identifying Existing Operating Systems"
   ]
  },
  {
   "cell_type": "markdown",
   "id": "97bd8f08-2438-4702-8d52-518f6ca95e75",
   "metadata": {},
   "source": [
    "In order to specify password policies that will not cause problems for any users logging on to computers in your organization you need to know what operating systems they are using. It is possible that you already know exactly what operating systems are in use on your network. If you don't then you need to find out. You do not need to know how many of each, you do not need to create a precise inventory of all the systems on your network at this time. To be able to design a suitable password policy you only need to know if there are any legacy systems present. Computers running Windows 95, Windows 98, or Windows Millennium Edition are the legacy operating systems that you are most likely to encounter on your network.\n",
    "\n",
    "To identify what computer operating systems are in use on your organization's network you can ask your users to check which version they are running for you, or you can walk up to each computer and check yourself. Regardless of who does the checking, this is the process:\n",
    "\n",
    "- Click `Start`, and then click `Run`.\n",
    "\n",
    "- In Open, type `winver.exe`, and then click `OK`. The version number is displayed in the `About` Windows dialog box."
   ]
  },
  {
   "cell_type": "markdown",
   "id": "32043e14-1370-49eb-8e47-349cefe673a1",
   "metadata": {},
   "source": [
    "#### Understanding the Limitations of Some Operating Systems"
   ]
  },
  {
   "cell_type": "markdown",
   "id": "f1408793-b431-44f1-ab36-fb76b4452e22",
   "metadata": {},
   "source": [
    "As explained earlier, computers running Windows NT 4.0, Windows 2000, Windows XP, and Windows Server 2003 all support long and strong passwords. Computers running Windows 95, Windows 98, and Windows Millennium Edition do not. If any of the computers on your network are running any of these versions of Windows, then your password policy will have to accommodate these computers.\n",
    "\n",
    "For organization that include computers running Windows 95, Windows 98, or Windows Millennium Edition, then the user passwords cannot be longer than 14 characters and cannot include characters generated through ALT key combinations.\n",
    "\n",
    "If all computers in your organization are running Windows NT 4.0, Windows 2000, Windows XP, or Windows Server 2003, then user passwords can be up to 128 characters long and those passwords can include characters generated through ALT key combinations."
   ]
  },
  {
   "cell_type": "markdown",
   "id": "17437d32-4d24-4118-b324-32ebc26c075a",
   "metadata": {},
   "source": [
    "#### Defining Technical Requirements for Passwords"
   ]
  },
  {
   "cell_type": "markdown",
   "id": "af597f86-2fdc-45ec-8180-9e821868ebf2",
   "metadata": {},
   "source": [
    "For computers running Windows 2000, Windows XP, and Windows Server 2003, you can enforce up to five settings related to password characteristics.\n",
    "\n",
    "In this step, we provide you with the setting definitions and our recommendation for these settings. You will decide what values your organization will enforce.\n",
    "\n",
    "<center>\n",
    "    <b>Technical Requirements for Passwords</b>\n",
    "\n",
    "<div class=\"has-inner-focus\"><table aria-label=\"Table 4\" class=\"table table-sm\">\n",
    "<colgroup>\n",
    "<col>\n",
    "<col>\n",
    "<col>\n",
    "</colgroup>\n",
    "<thead>\n",
    "<tr class=\"header\">\n",
    "<th><p>Setting</p></th>\n",
    "<th><p>Description</p></th>\n",
    "<th><p>Recommendation</p></th>\n",
    "</tr>\n",
    "</thead>\n",
    "<tbody>\n",
    "<tr class=\"odd\">\n",
    "<td><p><strong>Enforce password history</strong></p></td>\n",
    "<td><p>Determines the number of unique new passwords a user must use before an old password can be reused. It can be set between 0 and 24; if set to 0, then enforce password history is disabled.</p></td>\n",
    "<td><p>For most organizations, set to 24 passwords remembered.</p></td>\n",
    "</tr>\n",
    "<tr class=\"even\">\n",
    "<td><p><strong>Maximum password age</strong></p></td>\n",
    "<td><p>Determines how many days a password can be used before the user is required to change it. It can be set between 0 and 999; if set to 0, then passwords never expire. Setting this too low may cause a great deal of frustration for your users, setting it too high or disabling it will give potential attackers more time to try to break users' passwords.</p></td>\n",
    "<td><p>For most organizations, set to 42 days.</p></td>\n",
    "</tr>\n",
    "<tr class=\"odd\">\n",
    "<td><p><strong>Minimum password age</strong></p></td>\n",
    "<td><p>Determines how many days a user must keep their new password before they can change it. This setting is designed to work with the <strong>Enforce password history</strong> setting so that users cannot quickly reset their password 24 times and then change their password back to the old password. It can be set between 0 and 999; if set to 0, then users will be able to immediately change their password right after changing it.</p></td>\n",
    "<td><p>For most organizations, set to 2 days.</p></td>\n",
    "</tr>\n",
    "<tr class=\"even\">\n",
    "<td><p><strong>Minimum password length</strong></p></td>\n",
    "<td><p>Determines how short passwords can be. Although computers running Windows 2000, Windows XP, and Windows Server 2003 support passwords up to 128 characters, this setting can only be set between 0 and 14 characters. If it is set to 0, then users are allowed to have blank passwords; this value should never be used.</p></td>\n",
    "<td><p>Set to 8 characters.</p></td>\n",
    "</tr>\n",
    "<tr class=\"odd\">\n",
    "<td><p><strong>Passwords must meet complexity requirements</strong></p></td>\n",
    "<td><p>Determines whether or not password complexity is enforced.<br>\n",
    "When this setting is enabled user passwords will have the following requirements:<br>\n",
    "</p>\n",
    "<ul>\n",
    "<li><p>The password is at least six characters long.</p></li>\n",
    "<li><p>The password contains characters from three of the following five categories: English uppercase characters (A - Z); English lowercase characters (a - z); base 10 digits (0 - 9); non - alphanumeric (For example: !, $, #, or %); Unicode characters.</p></li>\n",
    "<li><p>The password does not contain three or more characters from the user's account name. If the account name is less than three characters long then this check is not performed because the rate at which passwords would be rejected would be too high. When checking against the user's full name several characters are treated as delimiters that separate the name into individual tokens: commas, periods, dashes/hyphens, underscores, spaces, pound-signs and tabs. For each token that is three or more characters long, that token is searched for in the password, and if it is present, the password change is rejected. For example, the name \"Erin M. Hagens\" would be split into three tokens: \"Erin,\" \"M,\" and \"Hagens.\" Since the second token is only one character long it would be ignored. Therefore, this user could not have a password that included either \"erin\" or \"hagens\" as a substring anywhere in the password. All of these checks are case insensitive.</p></li>\n",
    "</ul></td>\n",
    "<td><p>Enable this setting.</p></td>\n",
    "</tr>\n",
    "</tbody>\n",
    "</table></div>"
   ]
  },
  {
   "cell_type": "markdown",
   "id": "4b4f0b44-1dd7-4918-9804-4c3d4c3d9d77",
   "metadata": {},
   "source": [
    "#### Documenting Your Organization's Password Policy"
   ]
  },
  {
   "cell_type": "markdown",
   "id": "ba465ff6-75f1-44e0-9aba-a0974a9315d0",
   "metadata": {},
   "source": [
    "Next, you need to decide how formal you want to be when documenting your organization's password policy.\n",
    "\n",
    "At a minimum, write down the settings that will be enforced on the computers in your organization's network.\n",
    "\n",
    "Some organizations may want to record the policy in a formal policy statement. If you feel that this level of formality is suitable for your organization, you may want to take a look at the links to sample policies that appear in \"Related Information\" later in this document.\n",
    "\n",
    "Some organizations may have regulatory requirements for documenting these sorts of corporate policies. If you believe that your organization has regulatory requirements, you ought to have the policy reviewed by your organization's legal counsel before implementing it and communicating it to your users."
   ]
  },
  {
   "cell_type": "markdown",
   "id": "ec555738-a6bc-43f0-9790-3dac8fe370d6",
   "metadata": {},
   "source": [
    "### Communicating the Password Policy to Users"
   ]
  },
  {
   "cell_type": "markdown",
   "id": "0f2f5306-3014-4cb8-9681-e8bb41905864",
   "metadata": {},
   "source": [
    "Any important policy change needs to be clearly communicated to the people who work at your organization. When changing or implementing password policies, it is extremely important that you clearly explain to the people impacted what you are doing and why."
   ]
  },
  {
   "cell_type": "markdown",
   "id": "7b37e2b2-1a31-4613-b289-fbb3c9cf5826",
   "metadata": {},
   "source": [
    "#### Sample Password Policy for Your Use"
   ]
  },
  {
   "cell_type": "markdown",
   "id": "75faf909-a700-4560-9369-b56c15fbdf32",
   "metadata": {},
   "source": [
    "The following text is designed for you to copy and distribute to the people you work with. Although it is ready for use as is, you may want to change specific terms to better match your own needs and specific password policy requirements.\n",
    "\n",
    "You will notice that this sample text does not discuss or recommend the use of ALT key combinations; this is because their use may be too demanding for many users. ALT key combination use is recommended for technically savvy users who have powerful or sensitive accounts, such as administrators.\n",
    "\n",
    "To organization members:\n",
    "\n",
    "Weak and blank passwords are one of the easiest ways for attackers to break into your computer and our organization's network. Passwords that are used for years at a time, or passwords that are reused frequently, are also much more likely to be discovered by an attacker.\n",
    "\n",
    "To increase the protection of your account on the network, you are required to use strong passwords when accessing corporate computer systems. You will be required to change your password periodically, and you will be required to use passwords that do not match your previous passwords.\n",
    "\n",
    "A strong password is a password that is at least eight characters long and uses characters from three of the five following groups:\n",
    "\n",
    "- Lowercase letters\n",
    "- Uppercase letters\n",
    "- Numbers (for instance, 1, 2, 3)\n",
    "- Symbols (for instance, @, =, -, and so on)\n",
    "- Unicode characters\n",
    "\n",
    "Your passwords will also not be able to contain three or more consecutive letters from your user account name. You will be required to change your password every 42 days, and you will not be able to reuse passwords.\n",
    "\n",
    "When you change your password, your new password will automatically be checked for complexity and it will be compared to your previous passwords. This may sound like a frustrating situation and you may be tempted to write down your password and paste it to your desk, computer monitor, or some other easily accessed location. However, the moment you do that you are exposing your computer and our entire organization to tremendous risk as anyone could walk up to your computer and log on to the network using your credentials. Therefore, never write down your passwords. Instead, create passwords that are easy to remember.\n",
    "\n",
    "Below you'll find some more background information about password security as well as specific advice on how to create strong passwords that are easy to remember.\n",
    "\n",
    "**Using Pass Phrases**\n",
    "\n",
    "Perhaps it might be easier to think in terms \"pass phrases\" rather than \"passwords.\" If your computer is running Windows NT 4.0 or earlier, Windows 2000, Windows XP, and Windows Server 2003, passwords up to fifteen or more characters are supported, including spaces. Therefore, \"You can try to break this until the cows come home!\" is a perfectly valid pass phrase that will be extremely difficult for an attacker to break even using the best password cracking tool around. If your computer is running one of the operating systems mentioned above, try to use a very long pass phrase that includes a mix of uppercase letters, lowercase letters, numbers, and symbols.\n",
    "\n",
    "Note that you should not actually use the example passwords within this document, although the password discussed above, \"You can try to break this until the cows come home \" is very long attackers may add it and other sample passwords in this document to their attack tools. These are examples, you should always create your own unique passwords.\n",
    "\n",
    "**More Password Tips**\n",
    "\n",
    "The following information provides tips and do's and don'ts for creating and remembering passwords and password phrases.\n",
    "\n",
    "- **Use more than one word**\n",
    "Instead of only using the name of someone you know, such as \"Allison\", choose something about that person no one else knows about, for instance, \"AllisonsBear\" or \"AlliesBear\".\n",
    "\n",
    "- **Use symbols instead of characters**\n",
    "Many people tend to put the required symbols and numbers at the end of a word they know, for instance, \"Allison1234\". Unfortunately, this is relatively easy to break. The word \"Allison\" is in a lot of dictionaries that include common names; once the name is discovered, the attacker has only four more relatively easy characters to guess. Instead, replace one or more of the letters within the word with symbols that you'll easily recall. Many people have their own creative interpretations of what letter some symbols and numbers resemble. For example, try substituting \"@\" for \"A\", \"!\" for \"l\", a zero (0) for an \"O\", a `$` for an \"S\", and a \"3\" for an \"E\". With substitutions such as these, \"@llis0nbe@r\", \"A!!isonB3ar\", and \"A//i$onBear\" are all recognizable to you, but they would be extremely difficult to guess or break. Look at the symbols on your keyboard and think of the first character that comes to mind-it might not be what someone else would think of, but you will remember it. Use some of those symbols as substitutions for your passwords from now on.\n",
    "\n",
    "- **Choose events or people that are on your mind**\n",
    "To remember a strong password that will have to change in several months, try selecting an upcoming personal or public event. Use this as an opportunity to remind yourself about something pleasant that is going on in your life, or a person whom you admire or love. You won't be likely to forget the password if it is funny or endearing. Make it unique to you. Be sure to make it a phrase of two or more words, and continue to slip in your symbols. For example: \"J0hn$Gr@du@tion\".\n",
    "\n",
    "- **Use phonetics in the words**\n",
    "In general, password dictionaries used by attackers search for words embedded inside your password. As mentioned before, don't hesitate to use the words, but make sure you liberally sprinkle those words with embedded symbols. Another way to trump the attacker is to avoid spelling the words properly, or use funny phonetics that you can remember. For instance, \"Run for the hills\" could become \"R0n4dHiLLs!\" or \"R0n 4 d Hills!\" If your manager's name happens to be Ron, you might even get a chuckle each morning typing this in. If you are a lousy speller, you are ahead of the game already.\n",
    "\n",
    "- **Don't be afraid to make the password long**\n",
    "If you remember it better as a full phrase, go ahead and type it in. Longer passwords are much harder to break. And even though it is long, if it is easy for you to remember, you will probably have a lot less trouble getting into your system, even if you aren't the best typist in the world.\n",
    "\n",
    "- **Use first letters of a phrase**\n",
    "To create an easy-to-remember and strong password, begin with a properly capitalized and punctuated sentence that is easy for you to remember. For example: \"My daughter Kay goes to the International School.\" Next, take the first letter of each word in your sentence, preserving the capitalization used in the sentence. In the example above \"MdKgttIS\" would be the result. Finally substitute some non-alphanumeric characters for some of the letters in the password. You might use an \"@\" to replace an \"a\" or use an \"!\" to replace an \"L\". After one such substitution the example password above would be \"MdKgtt!S\"-a very difficult password to break, yet a password that is easy for you to remember, as long as you can recall the sentence on which the password is based.\n",
    "\n",
    "**Do's:**\n",
    "\n",
    "- Combine letters, symbols, and numbers that are easy for you to remember and hard for someone else to guess.\n",
    "\n",
    "- Create pronounceable passwords (even if they are not words) that are easier to remember, reducing the temptation to write down your password.\n",
    "\n",
    "- Try out using the initial letters of a phrase you love, especially if a number or special character is included.\n",
    "\n",
    "- Take two familiar things, and then wrap them around a number or special character. Alternatively, change the spelling to include a special character. In this manner, you get one unfamiliar thing (which makes a good password because it is easy for you and you alone to remember, but hard for anyone else to discover). Here are a few examples:\n",
    "\n",
    "    \"Phone + 4 + you\" = \"Phone4you\" or \"Fone4y0u\"\n",
    "\n",
    "    \"cat + * + Mouse\" = \"cat*Mouse\" or \"cat*Mou$e\"\n",
    "\n",
    "    \"attack + 3 + book\" = \"attack3booK\" or \"@tack3booK\"\n",
    "\n",
    "**Don'ts:**\n",
    "\n",
    "- Don't use personal information such as derivatives of your user ID, names of family members, maiden names, cars, license tags, telephone numbers, pets, birthdays, social security numbers, addresses, or hobbies.\n",
    "\n",
    "- Don't use any word in any language spelled forward or backward.\n",
    "\n",
    "- Don't tie passwords to the month, for example, don't use \"Mayday\" in May.\n",
    "\n",
    "- Don't create new passwords that are substantially similar to ones you've previously used."
   ]
  },
  {
   "cell_type": "markdown",
   "id": "f3f57974-dde3-4665-9557-85b0e80833e5",
   "metadata": {},
   "source": [
    "### Implementing the Password Policy in Your Organization"
   ]
  },
  {
   "cell_type": "markdown",
   "id": "31f6ce4d-dfbe-4640-ac1b-b85dd2ce1447",
   "metadata": {},
   "source": [
    "Now that you have specified, documented, and communicated the new password policy, it is time to implement the password policies on your network. For information about enforcing password usage, see [\"Password must meet complexity requirements\"](https://learn.microsoft.com/en-us/previous-versions/windows/it-pro/windows-server-2008-R2-and-2008/hh994562(v=ws.10)?redirectedfrom=MSDN)."
   ]
  },
  {
   "cell_type": "markdown",
   "id": "ca94d94f-412e-4c58-a487-50a66138d84a",
   "metadata": {},
   "source": [
    "### Related Information"
   ]
  },
  {
   "cell_type": "markdown",
   "id": "652e9f93-5e7c-4d4b-ba45-1a860cd6db19",
   "metadata": {},
   "source": [
    "For more information about developing a password policy, see the following:\n",
    "\n",
    "- [\"Password Policy\"](https://go.microsoft.com/fwlink/?linkid=22205) on the SANS (SysAdmin, Audit, Network, Security) Web site. SANS has advice on creating formal corporate security policies and samples policies.\n",
    "\n",
    "- [\"Sample Generic Policy and High Level Procedures for Passwords and Access Forms\"](https://go.microsoft.com/fwlink/?linkid=22206) on the National Institute of Standards (NIST) Web site. NIST has a sample password policy that many government agencies have used as the foundation for developing their own policies.\n",
    "\n",
    "For more information about password policies, see the following:\n",
    "\n",
    "- [\"Account Passwords and Policies\"](https://go.microsoft.com/fwlink/?linkid=22208) on the Microsoft TechNet Web site."
   ]
  },
  {
   "cell_type": "markdown",
   "id": "de7a5e66-02b0-486e-95a9-9d2093bbca1e",
   "metadata": {},
   "source": [
    "# <b>3.4 File Permissions</b>"
   ]
  },
  {
   "cell_type": "markdown",
   "id": "9f1afabe-fea3-4001-9714-d9eb046f1881",
   "metadata": {},
   "source": [
    "|Purpose|PowerShell|Bash|\n",
    "|-|-|-|\n",
    "|check ACLs|`icacls <path to folder>`||\n",
    "||`icacls /?` read on `icacls`||\n",
    "|check permissions|`icacls 'C:\\FolderName'`|`ls -l`|\n",
    "|**Modifying Permissions**|||\n",
    "|give permissions|`icacls 'C:\\FolderName' /grant 'Everyone:(OI)(CI)(R)'`|`sudo chmod ugo+rwx fname` (change mode)|\n",
    "|||`sudo chmod 777 fname`|\n",
    "|withdraw permission|`icacls 'C:\\FolderName' /remove 'Everyone:(OI)(CI)(R)'`|`sudo chmod ugo-rwx fname`|\n",
    "|||`sudo chmod 000 fname`|\n",
    "|change owner||`sudo chown uname fname`|\n",
    "|change group||`sudo chgrp uname fname`|\n",
    "||||\n",
    "||||\n",
    "||||\n",
    "||||\n",
    "||||\n",
    "||||\n",
    "||||\n",
    "||||\n",
    "||||\n",
    "||||\n",
    "||||\n",
    "||||"
   ]
  },
  {
   "cell_type": "markdown",
   "id": "15c53ad0-4e29-4e2a-b981-7db279c1b70d",
   "metadata": {},
   "source": [
    "## Windows"
   ]
  },
  {
   "cell_type": "markdown",
   "id": "f510fb6d-9d4c-44dd-a5b4-40890064b426",
   "metadata": {},
   "source": [
    "**Access Control Lists (ACLs)**\n",
    "- **Discretionary Access Control Lists (DACLs)** - who can use a file and what they're allowed to do with it,\n",
    "- **System Access Control Lists (SACLs)** - are used to tell Windows that it should use an event log to make a note of every time someone accesses a file or folder.\n",
    "\n",
    "- `Read` - lets you see that a file exists and allows you to read its contents. It also lets you read the files and directories in a directory. \n",
    "- `Read and execute` - lets you read files and if the file is an executable, you can run the file. `Read and Execute` includes read, so if you select `Read and Execute`, read will automatically be selected. \n",
    "- `List folder contents` is an alias for `Read and Execute` on a directory. Checking one will check the other. It means that you can read and execute files in that directory. \n",
    "- `Write` lets you make changes to a file. It might be surprising to you, but you can have write access to a file without having read permission to that file. The `Write` permission also lets you create subdirectories and write to files in the directory. \n",
    "- `Modify` permission is an umbrella permission that includes `read`, `execute`, and `write`. \n",
    "- `Full control` - a user or group with full control can do anything they want to the file. It includes all the permissions of `Modify` and adds the ability to take ownership of a file and change its ACLs. \n",
    "\n",
    "Now, when we click on My username, we can see the permissions for Cindy,\n",
    "Play video starting at :3:23 and follow transcript3:23\n",
    "which show that I'm allowed all of these access permissions. If we want to see which ACLs are assigned to a file, we can use a utility designed to view and change ACLs called icalcs, or improved change ACLs. Let's take a look at my desktop first. icalcs desktop. Well, that looks useful, but what does it mean? I can see the user accounts that have access to my desktop and I can see that my account is one of them. But what about the rest of this stuff? These letters represent each of the permissions that we talked about before. Let's take a look at the help for icalcs. I bet that'll explain things. icalcs/? There's a description of what each one of these letters means.\n",
    "Play video starting at :4:24 and follow transcript4:24\n",
    "The F shows that I have full control of my Desktop folder. icalcs causes full access. We saw this in the GUI earlier as full control. These are the same permission. What are these other letters mean? NTFS permissions can be inherited as we saw from the icalcs help. OI means object inherit, and CI means container inherit. If I create new files or objects inside my desktop folder, they'll inherit this DACL. If I create new directories or containers in my desktop, they'll also inherit this DACL."
   ]
  },
  {
   "cell_type": "markdown",
   "id": "1d0b4c46-b904-416c-8cfb-763b29200fe9",
   "metadata": {},
   "source": [
    "### Guest Users"
   ]
  },
  {
   "cell_type": "markdown",
   "id": "c5adeede-747a-4c2c-bdaa-47773c41805d",
   "metadata": {},
   "source": [
    "- users who can use computer without a password, they are in the group \"Everyone\"\n",
    "- all the users except for the guests are in the \"Authenticated Group\""
   ]
  },
  {
   "cell_type": "markdown",
   "id": "04889447-98e0-421c-b016-6fa38cccfc99",
   "metadata": {
    "tags": []
   },
   "source": [
    "### Supplemental Reading for [Windows ACL](https://learn.microsoft.com/en-us/windows/win32/secauthz/access-control-lists?redirectedfrom=MSDN)"
   ]
  },
  {
   "cell_type": "markdown",
   "id": "c7856ae2-1c38-4afc-a44d-1c51fe8773db",
   "metadata": {},
   "source": [
    "An [access control list](https://learn.microsoft.com/en-us/windows/desktop/SecGloss/a-gly) (ACL) is a list of [access control entries](https://learn.microsoft.com/en-us/windows/win32/secauthz/access-control-entries) (ACE). Each ACE in an ACL identifies a trustee and specifies the [access rights](https://learn.microsoft.com/en-us/windows/win32/secauthz/access-rights-and-access-masks) allowed, denied, or audited for that trustee. The [security descriptor](https://learn.microsoft.com/en-us/windows/win32/secauthz/security-descriptors) for a [securable object](https://learn.microsoft.com/en-us/windows/win32/secauthz/securable-objects) can contain two types of ACLs: a DACL and an SACL.\n",
    "\n",
    "A [discretionary access control list](https://learn.microsoft.com/en-us/windows/desktop/SecGloss/d-gly) (DACL) identifies the trustees that are allowed or denied access to a securable object. When a [process](https://learn.microsoft.com/en-us/windows/desktop/SecGloss/p-gly) tries to access a securable object, the system checks the ACEs in the object's DACL to determine whether to grant access to it. If the object doesn't have a DACL, the system grants full access to everyone. If the object's DACL has no ACEs, the system denies all attempts to access the object because the DACL doesn't allow any access rights. The system checks the ACEs in sequence until it finds one or more ACEs that allow all the requested access rights, or until any of the requested access rights are denied. For more information, see [How DACLs control access to an object](https://learn.microsoft.com/en-us/windows/win32/secauthz/how-dacls-control-access-to-an-object). For information about how to properly create a DACL, see [Creating a DACL](https://learn.microsoft.com/en-us/windows/desktop/SecBP/creating-a-dacl).\n",
    "\n",
    "A [system access control list](https://learn.microsoft.com/en-us/windows/desktop/SecGloss/s-gly) (SACL) allows administrators to log attempts to access a secured object. Each ACE specifies the types of access attempts by a specified trustee that cause the system to generate a record in the security event log. An ACE in an SACL can generate audit records when an access attempt fails, when it succeeds, or both. For more information about SACLs, see [Audit generation](https://learn.microsoft.com/en-us/windows/win32/secauthz/audit-generation) and [SACL access right](https://learn.microsoft.com/en-us/windows/win32/secauthz/sacl-access-right).\n",
    "\n",
    "Don't try to work directly with the contents of an ACL. To ensure that ACLs are semantically correct, use the appropriate functions to create and manipulate ACLs. For more information, see [Getting information from an ACL](https://learn.microsoft.com/en-us/windows/win32/secauthz/getting-information-from-an-acl) and [Creating or modifying an ACL](https://learn.microsoft.com/en-us/windows/win32/secauthz/creating-or-modifying-an-acl).\n",
    "\n",
    "ACLs also provide access control to Microsoft Active Directory service objects. Active Directory Service Interfaces (ADSI) include routines to create and modify the contents of these ACLs. For more information, see [Controlling object access in Active Directory Domain Services](https://learn.microsoft.com/en-us/windows/desktop/AD/controlling-access-to-objects-in-active-directory-domain-services)."
   ]
  },
  {
   "cell_type": "markdown",
   "id": "1cf8ee54-d0ea-47d0-9731-745a92e5227b",
   "metadata": {},
   "source": [
    "### Supplemental Reading: File and Folder Permissions"
   ]
  },
  {
   "cell_type": "markdown",
   "id": "f106248b-73ee-4aaa-9247-1f03498b9195",
   "metadata": {},
   "source": [
    "Applies To: Windows 7, Windows Server 2008 R2\n",
    "\n",
    "The following table lists the access limitations for each set of special NTFS permissions.\n",
    "\n",
    "<div class=\"has-inner-focus\"><table aria-label=\"Table 1\" class=\"table table-sm\">\n",
    "<colgroup>\n",
    "<col>\n",
    "<col>\n",
    "<col>\n",
    "<col>\n",
    "<col>\n",
    "<col>\n",
    "<col>\n",
    "</colgroup>\n",
    "<thead>\n",
    "<tr class=\"header\">\n",
    "<th>Special permissions</th>\n",
    "<th>Full Control</th>\n",
    "<th>Modify</th>\n",
    "<th>Read &amp; Execute</th>\n",
    "<th>List Folder Contents (folders only)</th>\n",
    "<th>Read</th>\n",
    "<th>Write</th>\n",
    "</tr>\n",
    "</thead>\n",
    "<tbody>\n",
    "<tr class=\"odd\">\n",
    "<td><p>Traverse Folder/Execute File</p></td>\n",
    "<td><p>x</p></td>\n",
    "<td><p>x</p></td>\n",
    "<td><p>x</p></td>\n",
    "<td><p>x</p></td>\n",
    "<td><p></p></td>\n",
    "<td><p></p></td>\n",
    "</tr>\n",
    "<tr class=\"even\">\n",
    "<td><p>List Folder/Read Data</p></td>\n",
    "<td><p>x</p></td>\n",
    "<td><p>x</p></td>\n",
    "<td><p>x</p></td>\n",
    "<td><p>x</p></td>\n",
    "<td><p>x</p></td>\n",
    "<td><p></p></td>\n",
    "</tr>\n",
    "<tr class=\"odd\">\n",
    "<td><p>Read Attributes</p></td>\n",
    "<td><p>x</p></td>\n",
    "<td><p>x</p></td>\n",
    "<td><p>x</p></td>\n",
    "<td><p>x</p></td>\n",
    "<td><p>x</p></td>\n",
    "<td><p></p></td>\n",
    "</tr>\n",
    "<tr class=\"even\">\n",
    "<td><p>Read Extended Attributes</p></td>\n",
    "<td><p>x</p></td>\n",
    "<td><p>x</p></td>\n",
    "<td><p>x</p></td>\n",
    "<td><p>x</p></td>\n",
    "<td><p>x</p></td>\n",
    "<td><p></p></td>\n",
    "</tr>\n",
    "<tr class=\"odd\">\n",
    "<td><p>Create Files/Write Data</p></td>\n",
    "<td><p>x</p></td>\n",
    "<td><p>x</p></td>\n",
    "<td><p></p></td>\n",
    "<td><p></p></td>\n",
    "<td><p></p></td>\n",
    "<td><p>x</p></td>\n",
    "</tr>\n",
    "<tr class=\"even\">\n",
    "<td><p>Create Folders/Append Data</p></td>\n",
    "<td><p>x</p></td>\n",
    "<td><p>x</p></td>\n",
    "<td><p></p></td>\n",
    "<td><p></p></td>\n",
    "<td><p></p></td>\n",
    "<td><p>x</p></td>\n",
    "</tr>\n",
    "<tr class=\"odd\">\n",
    "<td><p>Write Attributes</p></td>\n",
    "<td><p>x</p></td>\n",
    "<td><p>x</p></td>\n",
    "<td><p></p></td>\n",
    "<td><p></p></td>\n",
    "<td><p></p></td>\n",
    "<td><p>x</p></td>\n",
    "</tr>\n",
    "<tr class=\"even\">\n",
    "<td><p>Write Extended Attributes</p></td>\n",
    "<td><p>x</p></td>\n",
    "<td><p>x</p></td>\n",
    "<td><p></p></td>\n",
    "<td><p></p></td>\n",
    "<td><p></p></td>\n",
    "<td><p>x</p></td>\n",
    "</tr>\n",
    "<tr class=\"odd\">\n",
    "<td><p>Delete Subfolders and Files</p></td>\n",
    "<td><p>x</p></td>\n",
    "<td><p></p></td>\n",
    "<td><p></p></td>\n",
    "<td><p></p></td>\n",
    "<td><p></p></td>\n",
    "<td><p></p></td>\n",
    "</tr>\n",
    "<tr class=\"even\">\n",
    "<td><p>Delete</p></td>\n",
    "<td><p>x</p></td>\n",
    "<td><p>x</p></td>\n",
    "<td><p></p></td>\n",
    "<td><p></p></td>\n",
    "<td><p></p></td>\n",
    "<td><p></p></td>\n",
    "</tr>\n",
    "<tr class=\"odd\">\n",
    "<td><p>Read Permissions</p></td>\n",
    "<td><p>x</p></td>\n",
    "<td><p>x</p></td>\n",
    "<td><p>x</p></td>\n",
    "<td><p>x</p></td>\n",
    "<td><p>x</p></td>\n",
    "<td><p>x</p></td>\n",
    "</tr>\n",
    "<tr class=\"even\">\n",
    "<td><p>Change Permissions</p></td>\n",
    "<td><p>x</p></td>\n",
    "<td><p></p></td>\n",
    "<td><p></p></td>\n",
    "<td><p></p></td>\n",
    "<td><p></p></td>\n",
    "<td><p></p></td>\n",
    "</tr>\n",
    "<tr class=\"odd\">\n",
    "<td><p>Take Ownership</p></td>\n",
    "<td><p>x</p></td>\n",
    "<td><p></p></td>\n",
    "<td><p></p></td>\n",
    "<td><p></p></td>\n",
    "<td><p></p></td>\n",
    "<td><p></p></td>\n",
    "</tr>\n",
    "<tr class=\"even\">\n",
    "<td><p>Synchronize</p></td>\n",
    "<td><p>x</p></td>\n",
    "<td><p>x</p></td>\n",
    "<td><p>x</p></td>\n",
    "<td><p>x</p></td>\n",
    "<td><p>x</p></td>\n",
    "<td><p>x</p></td>\n",
    "</tr>\n",
    "</tbody>\n",
    "</table></div>\n",
    "\n",
    "> Important: Groups or users granted Full Control permission on a folder can delete any files in that folder regardless of the permissions protecting the file.\n",
    "\n",
    "**Additional considerations**\n",
    "\n",
    "Although List Folder Contents and Read & Execute appear to have the same special permissions, these permissions are inherited differently. List Folder Contents is inherited by folders but not files, and it should only appear when you view folder permissions. Read & Execute is inherited by both files and folders and is always present when you view file or folder permissions.\n",
    "\n",
    "In this version of Windows, the Everyone group does not include the Anonymous Logon group by default, so permissions applied to the Everyone group do not affect the Anonymous Logon group.\n",
    "\n",
    "Additional references: [Managing Permissions](https://learn.microsoft.com/en-us/previous-versions/windows/it-pro/windows-server-2008-R2-and-2008/cc732880(v=ws.11)?redirectedfrom=MSDN)"
   ]
  },
  {
   "cell_type": "markdown",
   "id": "240afea4-ce7a-4ab2-abd2-65b745a8fdbb",
   "metadata": {},
   "source": [
    "## Linux"
   ]
  },
  {
   "cell_type": "markdown",
   "id": "2be2dc88-72f0-4761-b252-9231c936d374",
   "metadata": {},
   "source": [
    "### `chmod`"
   ]
  },
  {
   "cell_type": "markdown",
   "id": "53760773-c464-4985-bdc5-738bdd279e7a",
   "metadata": {},
   "source": [
    "`chmod ugo+rwx fname`:\n",
    "- `u`ser \n",
    "- `g`roup\n",
    "- `o`ther users<br>\n",
    "<br>\n",
    "- `r`ead or `4`\n",
    "- `w`rite or `2`\n",
    "- e`x`ecute or `1`\n",
    "- `-` disabled\n",
    "- `s`etUID or `4`\n",
    "\n",
    "You can alsi write like this:\n",
    "\n",
    "`chmod 754 fname`:\n",
    "- 7 is 4+2+1 for user\n",
    "- 5 is 4+1 for group\n",
    "- 1 is 1 for other users"
   ]
  },
  {
   "cell_type": "markdown",
   "id": "2df03a45-318d-43d8-a4dc-16e04419bfb4",
   "metadata": {},
   "source": [
    "### View permissions"
   ]
  },
  {
   "cell_type": "code",
   "execution_count": 3,
   "id": "02182dc8-039e-4454-995e-6f4dda9624d5",
   "metadata": {
    "tags": []
   },
   "outputs": [
    {
     "name": "stdout",
     "output_type": "stream",
     "text": [
      "total 524\n",
      "-rw-r--r-- 1 commi commi      0 Aug 26 02:27 Administrative\n",
      "-rw-r--r-- 1 commi commi 423827 Aug 26 13:38 C2_The_Bits_and_Bytes_of_Computer_Networking.ipynb\n",
      "-rw-r--r-- 1 commi commi 100600 Aug 30 00:59 C3_Operating_Systems_and_You.ipynb\n",
      "drwxr-xr-x 3 commi commi   4096 Aug 26 02:27 \u001b[0m\u001b[01;34mdata\u001b[0m\n",
      "drwxr-xr-x 2 commi commi   4096 Aug 26 14:39 \u001b[01;34mmaterials\u001b[0m\n"
     ]
    }
   ],
   "source": [
    "ls -l"
   ]
  },
  {
   "cell_type": "markdown",
   "id": "aa7d48b4-a8f1-4068-acdf-66134600a339",
   "metadata": {},
   "source": [
    "`-rw-r--r-- 1 commi commi      0 Aug 26 02:27 Administrative`\n",
    "\n",
    "- `-` means \"a regular file\"\n",
    "- `d` means \"directory\"\n",
    "\n",
    "Then groups by three:\n",
    "\n",
    "- `rw-` permission of the USER (`commi`)\n",
    "- `r--` permission of the GROUP (`commi`)\n",
    "- `r--` permission of all OTHER users"
   ]
  },
  {
   "cell_type": "markdown",
   "id": "d657a3ce-0992-4b67-bbe4-cec8acaf2c48",
   "metadata": {},
   "source": [
    "### SetUID, SetGID, Sticky Bit"
   ]
  },
  {
   "cell_type": "markdown",
   "id": "a0554a87-110f-499d-9bae-51343e53c6ec",
   "metadata": {},
   "source": [
    "#### SetUID"
   ]
  },
  {
   "cell_type": "markdown",
   "id": "f0113027-c3c7-43d5-bcdf-f33d95bace93",
   "metadata": {},
   "source": [
    "Changing root rights for users without giving them sudo rights.\n",
    "\n",
    "```bash\n",
    "sudo useradd example\n",
    "sudo passwd example\n",
    "ls -l /etc/shadow\n",
    "```\n",
    "\n",
    "`-rw-r----- 1 root shadow 1180 Aug 31 21:05 /etc/shadow`\n",
    "\n",
    "So this file with the password is owned by root.\n",
    "\n",
    "SetUID enables files to be run by the permissions of the owner of the file. In this case, when you run the password command, it's being run as root:\n",
    "\n",
    "```bash\n",
    "ls -l /usr/bin/passwd\n",
    "```\n",
    "\n",
    "`-rwsr-xr-x 1 root root 68248 Mar 23 17:40 /usr/bin/passwd`\n",
    "\n",
    "Here `s` stands for `SetUID`. When the `s` is substituted where a regular bit would be, it allows us to run the file with the permissions of the owner of the file. To enable the setuid bit, you can do it symbolically (`s`) or numerically ('4'):\n",
    "\n",
    "```bash\n",
    "cd /tmp/\n",
    "touch file1.txt\n",
    "sudo chmod u+s file1.txt\n",
    "# or\n",
    "sudo chmod 4755 file1.txt\n",
    "ls -l file1.txt \n",
    "```\n",
    "\n",
    "`-rwsrw-r-- 1 commi commi    0 Aug 31 17:27 file1.txt`"
   ]
  },
  {
   "cell_type": "code",
   "execution_count": null,
   "id": "001e4266-8cd6-4541-880c-a287b8ce4ed5",
   "metadata": {},
   "outputs": [],
   "source": []
  },
  {
   "cell_type": "code",
   "execution_count": null,
   "id": "75fc57be-bf92-4923-b2df-64cebedb4025",
   "metadata": {},
   "outputs": [],
   "source": []
  },
  {
   "cell_type": "code",
   "execution_count": null,
   "id": "93f88908-547e-46d5-be2a-bf8f7ef45df8",
   "metadata": {},
   "outputs": [],
   "source": []
  },
  {
   "cell_type": "code",
   "execution_count": null,
   "id": "20278c7c-ec04-4e96-987f-c4bfb064c48f",
   "metadata": {},
   "outputs": [],
   "source": []
  },
  {
   "cell_type": "code",
   "execution_count": null,
   "id": "e1512450-22bd-4a6f-bbf1-218e86a47953",
   "metadata": {},
   "outputs": [],
   "source": []
  },
  {
   "cell_type": "code",
   "execution_count": null,
   "id": "b6f62461-61be-41a2-b5d2-88f74a079f4d",
   "metadata": {},
   "outputs": [],
   "source": []
  },
  {
   "cell_type": "code",
   "execution_count": null,
   "id": "6b168bad-3d26-4dec-8edf-e01a8869362c",
   "metadata": {},
   "outputs": [],
   "source": []
  },
  {
   "cell_type": "code",
   "execution_count": null,
   "id": "731a92db-83e5-41e7-b1bb-1a5222019aa8",
   "metadata": {},
   "outputs": [],
   "source": []
  },
  {
   "cell_type": "code",
   "execution_count": null,
   "id": "7ad7bb1b-b3e0-4439-9f97-78efc7ec0044",
   "metadata": {},
   "outputs": [],
   "source": []
  },
  {
   "cell_type": "code",
   "execution_count": null,
   "id": "42f1c69a-c0d9-4639-ab67-3a434066060e",
   "metadata": {},
   "outputs": [],
   "source": []
  },
  {
   "cell_type": "code",
   "execution_count": null,
   "id": "578ad0fc-8f0d-43fe-aebe-e7c50dcd0ff7",
   "metadata": {},
   "outputs": [],
   "source": []
  },
  {
   "cell_type": "code",
   "execution_count": null,
   "id": "225a64ed-48d3-450c-b447-e387c62e0b5c",
   "metadata": {},
   "outputs": [],
   "source": []
  },
  {
   "cell_type": "code",
   "execution_count": null,
   "id": "dbd0698f-9649-48bc-bf96-525cd8f8b525",
   "metadata": {},
   "outputs": [],
   "source": []
  },
  {
   "cell_type": "code",
   "execution_count": null,
   "id": "5c37ba12-bfe6-4ef1-9178-0d53c826b00a",
   "metadata": {},
   "outputs": [],
   "source": []
  },
  {
   "cell_type": "code",
   "execution_count": null,
   "id": "030185f1-1df6-43a4-a51a-e60099b2f3a8",
   "metadata": {},
   "outputs": [],
   "source": []
  },
  {
   "cell_type": "code",
   "execution_count": null,
   "id": "d79fc079-ff5b-4292-b73a-f1da19eeecc4",
   "metadata": {},
   "outputs": [],
   "source": []
  },
  {
   "cell_type": "code",
   "execution_count": null,
   "id": "2ce9613d-5d50-484c-8578-101a70c27dbd",
   "metadata": {},
   "outputs": [],
   "source": []
  },
  {
   "cell_type": "code",
   "execution_count": null,
   "id": "4b0e920e-14a6-4389-80a8-34db53ebfb85",
   "metadata": {},
   "outputs": [],
   "source": []
  },
  {
   "cell_type": "code",
   "execution_count": null,
   "id": "9f537794-6a64-49e5-9fe6-3463cd70a4dc",
   "metadata": {},
   "outputs": [],
   "source": []
  },
  {
   "cell_type": "code",
   "execution_count": null,
   "id": "232e7dce-285f-4eca-ad96-f90db95395e3",
   "metadata": {},
   "outputs": [],
   "source": []
  },
  {
   "cell_type": "code",
   "execution_count": null,
   "id": "8768f83b-bb72-45d8-859c-f84020c60e31",
   "metadata": {},
   "outputs": [],
   "source": []
  },
  {
   "cell_type": "code",
   "execution_count": null,
   "id": "ef9cadcc-c464-4dc4-ba66-3aa002bd7dbc",
   "metadata": {},
   "outputs": [],
   "source": []
  },
  {
   "cell_type": "code",
   "execution_count": null,
   "id": "7f241d1d-5a86-4e39-8a81-7435ae057188",
   "metadata": {},
   "outputs": [],
   "source": []
  },
  {
   "cell_type": "markdown",
   "id": "02b3dbbb-fa42-4e47-b946-9b41d5e40467",
   "metadata": {},
   "source": [
    "|Purpose|PowerShell|Bash|\n",
    "|-|-|-|\n",
    "||||\n",
    "||||\n",
    "||||\n",
    "||||\n",
    "||||\n",
    "||||\n",
    "||||\n",
    "||||\n",
    "||||\n",
    "||||\n",
    "||||\n",
    "||||\n",
    "||||\n",
    "||||\n",
    "||||\n",
    "||||\n",
    "||||\n",
    "||||\n",
    "||||\n",
    "||||"
   ]
  },
  {
   "cell_type": "code",
   "execution_count": null,
   "id": "1f37bef7-c656-4ff6-b664-730bca0fc1cd",
   "metadata": {},
   "outputs": [],
   "source": []
  },
  {
   "cell_type": "code",
   "execution_count": null,
   "id": "12b79861-4fee-4473-90b5-8bc16c33a2e6",
   "metadata": {},
   "outputs": [],
   "source": []
  },
  {
   "cell_type": "code",
   "execution_count": null,
   "id": "9510d522-0818-48be-aed2-642c11353563",
   "metadata": {},
   "outputs": [],
   "source": []
  },
  {
   "cell_type": "code",
   "execution_count": null,
   "id": "d17c41e8-799e-463c-b49b-e28eb3942f82",
   "metadata": {},
   "outputs": [],
   "source": []
  },
  {
   "cell_type": "code",
   "execution_count": null,
   "id": "2f822e16-5f2e-4ff6-ace4-9cfd62b00558",
   "metadata": {},
   "outputs": [],
   "source": []
  },
  {
   "cell_type": "code",
   "execution_count": null,
   "id": "2b98148f-578d-4de5-9ced-e99728fc1bdf",
   "metadata": {},
   "outputs": [],
   "source": []
  },
  {
   "cell_type": "code",
   "execution_count": null,
   "id": "120f1917-bc21-4a90-bb2b-dc07d90f95e8",
   "metadata": {},
   "outputs": [],
   "source": []
  },
  {
   "cell_type": "code",
   "execution_count": null,
   "id": "f96402c5-71ea-4696-82be-8ae2f7289071",
   "metadata": {},
   "outputs": [],
   "source": []
  },
  {
   "cell_type": "code",
   "execution_count": null,
   "id": "ccc9cd52-6f4b-481c-baa7-b55803f97044",
   "metadata": {},
   "outputs": [],
   "source": []
  },
  {
   "cell_type": "code",
   "execution_count": null,
   "id": "583bfa86-5afa-464a-8a00-c083cecb445f",
   "metadata": {},
   "outputs": [],
   "source": []
  },
  {
   "cell_type": "code",
   "execution_count": null,
   "id": "7f9cb2b0-08c3-47ab-b106-79a824ad340e",
   "metadata": {},
   "outputs": [],
   "source": []
  },
  {
   "cell_type": "code",
   "execution_count": null,
   "id": "e5c82884-ebc4-4736-8660-51b80202bdd3",
   "metadata": {},
   "outputs": [],
   "source": []
  },
  {
   "cell_type": "code",
   "execution_count": null,
   "id": "a123755d-9afd-438f-ae45-6f521c1fc562",
   "metadata": {},
   "outputs": [],
   "source": []
  },
  {
   "cell_type": "code",
   "execution_count": null,
   "id": "0be7ed6e-259c-4212-ba15-f9757df423a2",
   "metadata": {},
   "outputs": [],
   "source": []
  },
  {
   "cell_type": "code",
   "execution_count": null,
   "id": "af6215a9-68c8-4625-b1e2-ed3ed83cd518",
   "metadata": {},
   "outputs": [],
   "source": []
  },
  {
   "cell_type": "code",
   "execution_count": null,
   "id": "28ee5250-670e-40e8-857a-7876300ca531",
   "metadata": {},
   "outputs": [],
   "source": []
  },
  {
   "cell_type": "code",
   "execution_count": null,
   "id": "7186361e-d5df-4b55-bfe5-f70f7094843d",
   "metadata": {},
   "outputs": [],
   "source": []
  },
  {
   "cell_type": "code",
   "execution_count": null,
   "id": "30aa281a-09e4-4e42-b9df-77e498e85ef3",
   "metadata": {},
   "outputs": [],
   "source": []
  },
  {
   "cell_type": "code",
   "execution_count": null,
   "id": "8357fbe2-57ba-400f-b5ed-132990606092",
   "metadata": {},
   "outputs": [],
   "source": []
  },
  {
   "cell_type": "code",
   "execution_count": null,
   "id": "272ce34f-2f91-4127-b523-baa215e99b2e",
   "metadata": {},
   "outputs": [],
   "source": []
  },
  {
   "cell_type": "code",
   "execution_count": null,
   "id": "1c3680fa-5e68-40c3-a4c2-56874f69f25a",
   "metadata": {},
   "outputs": [],
   "source": []
  },
  {
   "cell_type": "code",
   "execution_count": null,
   "id": "1ab83667-3719-4d4f-b101-66ce7cf218d8",
   "metadata": {},
   "outputs": [],
   "source": []
  },
  {
   "cell_type": "code",
   "execution_count": null,
   "id": "966b5ac9-6d2a-4fe0-8cb8-0d938c30b9d7",
   "metadata": {},
   "outputs": [],
   "source": []
  },
  {
   "cell_type": "code",
   "execution_count": null,
   "id": "e9b2f68f-f81f-4da9-9809-626128754d8b",
   "metadata": {},
   "outputs": [],
   "source": []
  },
  {
   "cell_type": "code",
   "execution_count": null,
   "id": "b266588f-7622-405a-b6e5-97c51b0efb1c",
   "metadata": {},
   "outputs": [],
   "source": []
  },
  {
   "cell_type": "code",
   "execution_count": null,
   "id": "19e6e05a-36c5-42f4-8944-da89da0c971a",
   "metadata": {},
   "outputs": [],
   "source": []
  },
  {
   "cell_type": "code",
   "execution_count": null,
   "id": "8a2999e8-6331-422b-8667-b23179481a64",
   "metadata": {},
   "outputs": [],
   "source": []
  },
  {
   "cell_type": "code",
   "execution_count": null,
   "id": "951f4a14-be85-4c25-a940-9d5bc3d4f25d",
   "metadata": {},
   "outputs": [],
   "source": []
  },
  {
   "cell_type": "code",
   "execution_count": null,
   "id": "17af6ee3-f3f8-4e24-9ce9-27e110d42774",
   "metadata": {},
   "outputs": [],
   "source": []
  },
  {
   "cell_type": "code",
   "execution_count": null,
   "id": "46902be4-73e6-4bca-befe-a1e2872abc40",
   "metadata": {},
   "outputs": [],
   "source": []
  },
  {
   "cell_type": "code",
   "execution_count": null,
   "id": "c5fc7b26-91bd-475f-94c9-e833a3b1cb2f",
   "metadata": {},
   "outputs": [],
   "source": []
  },
  {
   "cell_type": "code",
   "execution_count": null,
   "id": "dd44ffe3-66fe-4a43-83af-100603fd982c",
   "metadata": {},
   "outputs": [],
   "source": []
  },
  {
   "cell_type": "code",
   "execution_count": null,
   "id": "ddb93ede-183d-4056-9258-67908ea64097",
   "metadata": {},
   "outputs": [],
   "source": []
  },
  {
   "cell_type": "code",
   "execution_count": null,
   "id": "3c676d8d-e94d-415d-ba74-8cf9fc57040f",
   "metadata": {},
   "outputs": [],
   "source": []
  },
  {
   "cell_type": "code",
   "execution_count": null,
   "id": "9a79c200-8ab2-4b49-9a34-98db7b26538b",
   "metadata": {},
   "outputs": [],
   "source": []
  },
  {
   "cell_type": "code",
   "execution_count": null,
   "id": "15406f7e-61fd-4172-993c-205cb36824d6",
   "metadata": {},
   "outputs": [],
   "source": []
  },
  {
   "cell_type": "code",
   "execution_count": null,
   "id": "72153ce0-daff-41e4-8123-2122da582a32",
   "metadata": {},
   "outputs": [],
   "source": []
  },
  {
   "cell_type": "code",
   "execution_count": null,
   "id": "b711db35-c03b-4f8c-a6ac-eac1be34220c",
   "metadata": {},
   "outputs": [],
   "source": []
  },
  {
   "cell_type": "code",
   "execution_count": null,
   "id": "f3766a7c-889d-4d8f-b277-f6f1c51e78b3",
   "metadata": {},
   "outputs": [],
   "source": []
  },
  {
   "cell_type": "code",
   "execution_count": null,
   "id": "2ee6c122-5d07-476f-ad1b-6f11b0fce7c8",
   "metadata": {},
   "outputs": [],
   "source": []
  },
  {
   "cell_type": "code",
   "execution_count": null,
   "id": "1b921230-18a4-49ea-949f-968c9abdea17",
   "metadata": {},
   "outputs": [],
   "source": []
  },
  {
   "cell_type": "code",
   "execution_count": null,
   "id": "3c56aa63-1a50-4136-b474-d73e4151bceb",
   "metadata": {},
   "outputs": [],
   "source": []
  },
  {
   "cell_type": "code",
   "execution_count": null,
   "id": "39f96d79-7d74-400c-a07d-4b8cf57786cf",
   "metadata": {},
   "outputs": [],
   "source": []
  },
  {
   "cell_type": "code",
   "execution_count": null,
   "id": "42932f0b-142d-411c-a0e5-34b344a617c9",
   "metadata": {},
   "outputs": [],
   "source": []
  },
  {
   "cell_type": "code",
   "execution_count": null,
   "id": "9f4b963a-c497-4eca-8472-4793585ba7b3",
   "metadata": {},
   "outputs": [],
   "source": []
  },
  {
   "cell_type": "code",
   "execution_count": null,
   "id": "2c31ecc6-aa70-4285-b5a8-8b44b905239a",
   "metadata": {},
   "outputs": [],
   "source": []
  },
  {
   "cell_type": "code",
   "execution_count": null,
   "id": "c204d759-f812-4a2f-9a61-180f5d7134c6",
   "metadata": {},
   "outputs": [],
   "source": []
  },
  {
   "cell_type": "code",
   "execution_count": null,
   "id": "1c6e4225-c64d-4e89-8052-55dfc4e32e93",
   "metadata": {},
   "outputs": [],
   "source": []
  },
  {
   "cell_type": "code",
   "execution_count": null,
   "id": "888df468-5c17-4a7b-9178-a233f2c7cd71",
   "metadata": {},
   "outputs": [],
   "source": []
  },
  {
   "cell_type": "code",
   "execution_count": null,
   "id": "ee673d5a-e0b8-4bef-963f-24d7612c5c3d",
   "metadata": {},
   "outputs": [],
   "source": []
  },
  {
   "cell_type": "code",
   "execution_count": null,
   "id": "16fd6b3f-740f-407e-a1c4-0597ec0a1e1c",
   "metadata": {},
   "outputs": [],
   "source": []
  },
  {
   "cell_type": "code",
   "execution_count": null,
   "id": "b6c06423-0175-45a6-b788-f22a73de94aa",
   "metadata": {},
   "outputs": [],
   "source": []
  },
  {
   "cell_type": "code",
   "execution_count": null,
   "id": "dfbbe6e2-d415-444a-b05b-4f34b0ef2514",
   "metadata": {},
   "outputs": [],
   "source": []
  },
  {
   "cell_type": "code",
   "execution_count": null,
   "id": "20ddadef-5b54-48c9-9dce-2c3d0c94ac83",
   "metadata": {},
   "outputs": [],
   "source": []
  },
  {
   "cell_type": "code",
   "execution_count": null,
   "id": "7d0a1f58-bb01-4ad8-a52c-9b293516e5cf",
   "metadata": {},
   "outputs": [],
   "source": []
  },
  {
   "cell_type": "code",
   "execution_count": null,
   "id": "007b5387-45e2-4d2b-b0b5-13e94e220731",
   "metadata": {},
   "outputs": [],
   "source": []
  },
  {
   "cell_type": "code",
   "execution_count": null,
   "id": "c809955d-dc4a-4814-bcd9-d42c59e0d6d4",
   "metadata": {},
   "outputs": [],
   "source": []
  },
  {
   "cell_type": "code",
   "execution_count": null,
   "id": "8bdcbaa9-302e-4852-9150-48f6f8a40f88",
   "metadata": {},
   "outputs": [],
   "source": []
  },
  {
   "cell_type": "code",
   "execution_count": null,
   "id": "237819bd-5482-4256-9e9b-87c2dd09275b",
   "metadata": {},
   "outputs": [],
   "source": []
  },
  {
   "cell_type": "code",
   "execution_count": null,
   "id": "c6fe786a-83f4-46f8-8595-3a381880c082",
   "metadata": {},
   "outputs": [],
   "source": []
  },
  {
   "cell_type": "code",
   "execution_count": null,
   "id": "f7fe40c2-d03f-491e-9eaf-a704bc7881ca",
   "metadata": {},
   "outputs": [],
   "source": []
  },
  {
   "cell_type": "code",
   "execution_count": null,
   "id": "c8c651e9-aec6-4c77-8054-bc55a4b2ff40",
   "metadata": {},
   "outputs": [],
   "source": []
  },
  {
   "cell_type": "code",
   "execution_count": null,
   "id": "01a9581e-9b99-494c-9d16-da576b8922e3",
   "metadata": {},
   "outputs": [],
   "source": []
  },
  {
   "cell_type": "code",
   "execution_count": null,
   "id": "2ced9444-6eb4-4695-80c6-b5a5179f4421",
   "metadata": {},
   "outputs": [],
   "source": []
  },
  {
   "cell_type": "code",
   "execution_count": null,
   "id": "20a4afb4-1d28-46c7-bf6b-5e63a23482ab",
   "metadata": {},
   "outputs": [],
   "source": []
  },
  {
   "cell_type": "code",
   "execution_count": null,
   "id": "5dc0d5bf-ce87-4e82-af56-a931919cddb2",
   "metadata": {},
   "outputs": [],
   "source": []
  },
  {
   "cell_type": "code",
   "execution_count": null,
   "id": "6fc54cb4-4b63-4a6e-84db-9c3332c1d0bb",
   "metadata": {},
   "outputs": [],
   "source": []
  },
  {
   "cell_type": "code",
   "execution_count": null,
   "id": "8afedaff-1736-49cd-8f56-dd3dd2a15c0a",
   "metadata": {},
   "outputs": [],
   "source": []
  },
  {
   "cell_type": "code",
   "execution_count": null,
   "id": "74a51724-8636-40c4-906c-c642af3894a6",
   "metadata": {},
   "outputs": [],
   "source": []
  },
  {
   "cell_type": "code",
   "execution_count": null,
   "id": "d4779a9f-45b3-48f9-9436-7241e61b1fe7",
   "metadata": {},
   "outputs": [],
   "source": []
  },
  {
   "cell_type": "code",
   "execution_count": null,
   "id": "42b43a6e-5ee8-4378-b998-bd53e004c4be",
   "metadata": {},
   "outputs": [],
   "source": []
  },
  {
   "cell_type": "code",
   "execution_count": null,
   "id": "085cfe24-d15f-4fbb-9734-df6336a48ea7",
   "metadata": {},
   "outputs": [],
   "source": []
  },
  {
   "cell_type": "code",
   "execution_count": null,
   "id": "23768f81-d5d5-448e-9b32-ddd20f0b89b7",
   "metadata": {},
   "outputs": [],
   "source": []
  },
  {
   "cell_type": "code",
   "execution_count": null,
   "id": "23c0d4fb-e997-47e4-81eb-352594ef94ee",
   "metadata": {},
   "outputs": [],
   "source": []
  },
  {
   "cell_type": "code",
   "execution_count": null,
   "id": "0006a7c3-4fa3-42c5-80a9-13cf27c51ddb",
   "metadata": {},
   "outputs": [],
   "source": []
  },
  {
   "cell_type": "code",
   "execution_count": null,
   "id": "a51f25ee-beeb-492d-9b74-7d36c5717ea0",
   "metadata": {},
   "outputs": [],
   "source": []
  },
  {
   "cell_type": "code",
   "execution_count": null,
   "id": "38d571d8-21c1-4e87-90a2-ec7f9e28f241",
   "metadata": {},
   "outputs": [],
   "source": []
  },
  {
   "cell_type": "code",
   "execution_count": null,
   "id": "5f3d45b9-6fdd-4a4c-9a61-79b7528be246",
   "metadata": {},
   "outputs": [],
   "source": []
  },
  {
   "cell_type": "code",
   "execution_count": null,
   "id": "0f7df2a5-402b-44f9-9444-75f0253be8a5",
   "metadata": {},
   "outputs": [],
   "source": []
  },
  {
   "cell_type": "code",
   "execution_count": null,
   "id": "b01b32cd-c94e-42bd-93b6-78ad1d31696b",
   "metadata": {},
   "outputs": [],
   "source": []
  },
  {
   "cell_type": "code",
   "execution_count": null,
   "id": "c96eb89d-47e6-4504-8f12-738f01d53b40",
   "metadata": {},
   "outputs": [],
   "source": []
  },
  {
   "cell_type": "code",
   "execution_count": null,
   "id": "39f2f64e-c54d-4133-8481-70d3d7c6ce54",
   "metadata": {},
   "outputs": [],
   "source": []
  },
  {
   "cell_type": "code",
   "execution_count": null,
   "id": "3e09fe68-5e4b-454d-95e4-bf41fbf64087",
   "metadata": {},
   "outputs": [],
   "source": []
  },
  {
   "cell_type": "code",
   "execution_count": null,
   "id": "2bbc1e98-40f3-4a49-8641-4aa907ab45aa",
   "metadata": {},
   "outputs": [],
   "source": []
  },
  {
   "cell_type": "code",
   "execution_count": null,
   "id": "cbb55ea1-b350-4f00-b37a-70e61c44ab46",
   "metadata": {},
   "outputs": [],
   "source": []
  },
  {
   "cell_type": "code",
   "execution_count": null,
   "id": "461d0b38-a9e4-4cf5-8971-63c18ddb0b70",
   "metadata": {},
   "outputs": [],
   "source": []
  },
  {
   "cell_type": "code",
   "execution_count": null,
   "id": "75604421-7348-4a67-a133-3eb50157f4a2",
   "metadata": {},
   "outputs": [],
   "source": []
  },
  {
   "cell_type": "code",
   "execution_count": null,
   "id": "06d0cc42-a3ed-4e13-a97d-65681466e15a",
   "metadata": {},
   "outputs": [],
   "source": []
  },
  {
   "cell_type": "code",
   "execution_count": null,
   "id": "66227f67-177b-4851-a83b-b9f63f20872e",
   "metadata": {},
   "outputs": [],
   "source": []
  },
  {
   "cell_type": "code",
   "execution_count": null,
   "id": "afc771d0-dae6-4bf2-a463-07ed42909d0b",
   "metadata": {},
   "outputs": [],
   "source": []
  },
  {
   "cell_type": "code",
   "execution_count": null,
   "id": "a38745e3-6ee7-4fbd-9cbe-cf4eb30c8407",
   "metadata": {},
   "outputs": [],
   "source": []
  },
  {
   "cell_type": "code",
   "execution_count": null,
   "id": "0dc63e6a-b030-43e6-b784-523a6e600707",
   "metadata": {},
   "outputs": [],
   "source": []
  },
  {
   "cell_type": "code",
   "execution_count": null,
   "id": "cdf322a3-4acb-4dac-8b08-7a5a9cd676fa",
   "metadata": {},
   "outputs": [],
   "source": []
  },
  {
   "cell_type": "code",
   "execution_count": null,
   "id": "137da193-5bac-48c6-aa0b-11285bf21f4b",
   "metadata": {},
   "outputs": [],
   "source": []
  },
  {
   "cell_type": "code",
   "execution_count": null,
   "id": "d3d8a82a-712b-46be-b61e-994ffbff4dde",
   "metadata": {},
   "outputs": [],
   "source": []
  },
  {
   "cell_type": "code",
   "execution_count": null,
   "id": "4aab3312-0201-42f8-9159-9b2a2dc09a14",
   "metadata": {},
   "outputs": [],
   "source": []
  },
  {
   "cell_type": "code",
   "execution_count": null,
   "id": "4f11bb3a-9fa4-4fde-8a2a-ea33fb85494d",
   "metadata": {},
   "outputs": [],
   "source": []
  },
  {
   "cell_type": "code",
   "execution_count": null,
   "id": "5fa34c9c-fe3a-4937-8577-e59daf9ed2c6",
   "metadata": {},
   "outputs": [],
   "source": []
  },
  {
   "cell_type": "code",
   "execution_count": null,
   "id": "50e0bc56-024d-457c-97cc-959c9562f150",
   "metadata": {},
   "outputs": [],
   "source": []
  },
  {
   "cell_type": "code",
   "execution_count": null,
   "id": "33af2a9e-290c-4319-ac8f-e9253b61c377",
   "metadata": {},
   "outputs": [],
   "source": []
  },
  {
   "cell_type": "code",
   "execution_count": null,
   "id": "296f6504-ce0b-425b-9e6c-c9aafe43b335",
   "metadata": {},
   "outputs": [],
   "source": []
  },
  {
   "cell_type": "code",
   "execution_count": null,
   "id": "82e05890-3dbf-4d25-adaf-02c22258bfc7",
   "metadata": {},
   "outputs": [],
   "source": []
  },
  {
   "cell_type": "code",
   "execution_count": null,
   "id": "4cf7876b-c474-41f1-8b74-9d20aa2c77a3",
   "metadata": {},
   "outputs": [],
   "source": []
  },
  {
   "cell_type": "code",
   "execution_count": null,
   "id": "27be50d8-a612-4f40-9e6a-bb8b4d7a78a9",
   "metadata": {},
   "outputs": [],
   "source": []
  },
  {
   "cell_type": "code",
   "execution_count": null,
   "id": "a9d86c91-178d-403b-b09a-d63fe47a7d79",
   "metadata": {},
   "outputs": [],
   "source": []
  },
  {
   "cell_type": "code",
   "execution_count": null,
   "id": "d60d9b34-bcc3-4d77-bdcc-0c9794c4c5b3",
   "metadata": {},
   "outputs": [],
   "source": []
  },
  {
   "cell_type": "code",
   "execution_count": null,
   "id": "75123fe5-c8f5-4273-b7c6-c9166bcf7caa",
   "metadata": {},
   "outputs": [],
   "source": []
  },
  {
   "cell_type": "code",
   "execution_count": null,
   "id": "7c0b6673-da7e-4617-b928-33f79175b960",
   "metadata": {},
   "outputs": [],
   "source": []
  },
  {
   "cell_type": "code",
   "execution_count": null,
   "id": "97d1a9da-a758-4b0a-952a-db49a4b6ddd0",
   "metadata": {},
   "outputs": [],
   "source": []
  },
  {
   "cell_type": "code",
   "execution_count": null,
   "id": "e7b2bebd-0435-48d9-be1f-801e3d03b607",
   "metadata": {},
   "outputs": [],
   "source": []
  },
  {
   "cell_type": "code",
   "execution_count": null,
   "id": "a2150f34-b3c2-4018-bca0-9e273b01ff66",
   "metadata": {},
   "outputs": [],
   "source": []
  },
  {
   "cell_type": "code",
   "execution_count": null,
   "id": "8737f72b-3ea0-4f50-9fdf-064f50d337a1",
   "metadata": {},
   "outputs": [],
   "source": []
  },
  {
   "cell_type": "code",
   "execution_count": null,
   "id": "f9d3e917-aacc-48f0-8106-4370a2d0f71d",
   "metadata": {},
   "outputs": [],
   "source": []
  },
  {
   "cell_type": "code",
   "execution_count": null,
   "id": "d43fcc51-b705-40cb-97bd-59701c645933",
   "metadata": {},
   "outputs": [],
   "source": []
  },
  {
   "cell_type": "code",
   "execution_count": null,
   "id": "d3fe8832-d9c8-45e6-b2e3-101bb76501d5",
   "metadata": {},
   "outputs": [],
   "source": []
  },
  {
   "cell_type": "code",
   "execution_count": null,
   "id": "e07153e7-ad1d-4c80-b8e5-d93cf24b6e50",
   "metadata": {},
   "outputs": [],
   "source": []
  },
  {
   "cell_type": "code",
   "execution_count": null,
   "id": "229b8d28-cff8-4d1d-bd11-9571ba9f8180",
   "metadata": {},
   "outputs": [],
   "source": []
  },
  {
   "cell_type": "code",
   "execution_count": null,
   "id": "24ced11d-a791-4290-8b02-20896170dc16",
   "metadata": {},
   "outputs": [],
   "source": []
  },
  {
   "cell_type": "code",
   "execution_count": null,
   "id": "20bfe02d-a2ed-4451-a9e4-4468f7cd3e7c",
   "metadata": {},
   "outputs": [],
   "source": []
  },
  {
   "cell_type": "code",
   "execution_count": null,
   "id": "e1cbcd31-7fff-4041-9e8d-67f9226d06c6",
   "metadata": {},
   "outputs": [],
   "source": []
  },
  {
   "cell_type": "code",
   "execution_count": null,
   "id": "6b1a8d9f-6cd9-47e4-aea8-68c8c66ee193",
   "metadata": {},
   "outputs": [],
   "source": []
  },
  {
   "cell_type": "code",
   "execution_count": null,
   "id": "73901bbe-fd39-41bf-a399-d959b3c30081",
   "metadata": {},
   "outputs": [],
   "source": []
  },
  {
   "cell_type": "code",
   "execution_count": null,
   "id": "8c89f69b-0a89-46cc-819d-df6b4ce49624",
   "metadata": {},
   "outputs": [],
   "source": []
  },
  {
   "cell_type": "code",
   "execution_count": null,
   "id": "185b8351-dbfb-4c57-90ef-865385879105",
   "metadata": {},
   "outputs": [],
   "source": []
  },
  {
   "cell_type": "code",
   "execution_count": null,
   "id": "f0b635c9-13e4-44fa-9d5c-7cb490f21461",
   "metadata": {},
   "outputs": [],
   "source": []
  },
  {
   "cell_type": "code",
   "execution_count": null,
   "id": "bf57cbc4-9cb4-4a1b-a0af-33dd716621a7",
   "metadata": {},
   "outputs": [],
   "source": []
  },
  {
   "cell_type": "code",
   "execution_count": null,
   "id": "8aa00320-7f29-4bf5-98c6-2aad06a3a4ec",
   "metadata": {},
   "outputs": [],
   "source": []
  },
  {
   "cell_type": "code",
   "execution_count": null,
   "id": "2a62a6fd-2bf0-48f8-b54f-d4d700d5bc0d",
   "metadata": {},
   "outputs": [],
   "source": []
  }
 ],
 "metadata": {
  "kernelspec": {
   "display_name": "Bash",
   "language": "bash",
   "name": "bash"
  },
  "language_info": {
   "codemirror_mode": "shell",
   "file_extension": ".sh",
   "mimetype": "text/x-sh",
   "name": "bash"
  }
 },
 "nbformat": 4,
 "nbformat_minor": 5
}
